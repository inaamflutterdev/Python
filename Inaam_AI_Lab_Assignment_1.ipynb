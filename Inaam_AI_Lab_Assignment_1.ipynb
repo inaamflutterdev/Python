{
  "cells": [
    {
      "cell_type": "markdown",
      "source": [
        "#1. Python Introduction\n",
        "Python is a high-level, general-purpose programming language. Its design philosophy emphasizes code readability with the use of significant indentation.\n",
        "Python is dynamically typed and garbage-collected. It supports multiple programming paradigms, including structured (particularly procedural), object-oriented and functional programming. It is often described as a \"batteries included\" language due to its comprehensive standard library.\n",
        "\n",
        "##1.1 Why Python?\n",
        "Python has a simple syntax and hence is easy to understand and learn. Thus, making it a popular pick when it comes to programming languages. As you can see, the same code can be written using fewer lines in Python. Thus, making it much simpler to use on many levels.\n",
        "\n",
        "##1.2 Where it is used?\n",
        "Python is commonly used for developing websites and software, task automation, data analysis, and data visualization. Since it's relatively easy to learn, Python has been adopted by many non-programmers such as accountants and scientists, for a variety of everyday tasks, like organizing finances.\n",
        "\n",
        "#2. Data Types\n",
        "Built-in Data Types\n",
        "In programming, data type is an important concept.\n",
        "\n",
        "Variables can store data of different types, and different types can do different things.\n",
        "\n",
        "Python has the following data types built-in by default, in these categories:\n"
      ],
      "metadata": {
        "id": "iqTWW_MHiwlr"
      }
    },
    {
      "cell_type": "markdown",
      "source": [
        "##Text Type: Str"
      ],
      "metadata": {
        "id": "tWbBJ-edlYve"
      }
    },
    {
      "cell_type": "code",
      "source": [
        "x = \"Hello World\"\n",
        "\n",
        "#display x:\n",
        "print(x)\n",
        "\n",
        "#display the data type of x:\n",
        "print(type(x))"
      ],
      "metadata": {
        "colab": {
          "base_uri": "https://localhost:8080/"
        },
        "id": "1VaD-q2SlSRA",
        "outputId": "403038e3-38ae-4947-a7a5-48ddf531377b"
      },
      "execution_count": null,
      "outputs": [
        {
          "output_type": "stream",
          "name": "stdout",
          "text": [
            "Hello World\n",
            "<class 'str'>\n"
          ]
        }
      ]
    },
    {
      "cell_type": "markdown",
      "source": [
        "##Numeric Types: int, float, complex\n",
        "###int:\n"
      ],
      "metadata": {
        "id": "DeRqAS2Cly1g"
      }
    },
    {
      "cell_type": "code",
      "source": [
        "x = 20\n",
        "\n",
        "#display x:\n",
        "print(x)\n",
        "\n",
        "#display the data type of x:\n",
        "print(type(x))"
      ],
      "metadata": {
        "colab": {
          "base_uri": "https://localhost:8080/"
        },
        "id": "ZbjlmJ3bmIgI",
        "outputId": "606f5ff1-acc0-4edc-c976-34391c224bc4"
      },
      "execution_count": null,
      "outputs": [
        {
          "output_type": "stream",
          "name": "stdout",
          "text": [
            "20\n",
            "<class 'int'>\n"
          ]
        }
      ]
    },
    {
      "cell_type": "markdown",
      "source": [
        "###float:"
      ],
      "metadata": {
        "id": "X6F7lMBOmMto"
      }
    },
    {
      "cell_type": "code",
      "source": [
        "x = 20.5\n",
        "\n",
        "#display x:\n",
        "print(x)\n",
        "\n",
        "#display the data type of x:\n",
        "print(type(x))"
      ],
      "metadata": {
        "colab": {
          "base_uri": "https://localhost:8080/"
        },
        "id": "gt90AwkEmQGg",
        "outputId": "4364b144-05e9-4d98-fe2c-f326fe1db093"
      },
      "execution_count": null,
      "outputs": [
        {
          "output_type": "stream",
          "name": "stdout",
          "text": [
            "20.5\n",
            "<class 'float'>\n"
          ]
        }
      ]
    },
    {
      "cell_type": "markdown",
      "source": [
        "###complex:"
      ],
      "metadata": {
        "id": "9G-VHHqcmXTZ"
      }
    },
    {
      "cell_type": "code",
      "source": [
        "x = 1j\n",
        "\n",
        "#display x:\n",
        "print(x)\n",
        "\n",
        "#display the data type of x:\n",
        "print(type(x))"
      ],
      "metadata": {
        "colab": {
          "base_uri": "https://localhost:8080/"
        },
        "id": "CRDFnhVRmdrH",
        "outputId": "0d5ac761-82c4-4ef8-da06-54e074f040d3"
      },
      "execution_count": null,
      "outputs": [
        {
          "output_type": "stream",
          "name": "stdout",
          "text": [
            "1j\n",
            "<class 'complex'>\n"
          ]
        }
      ]
    },
    {
      "cell_type": "markdown",
      "source": [
        "##Sequence Types:\n",
        "###list, tuple, range\n",
        "###list:"
      ],
      "metadata": {
        "id": "3xbtg0lzmpSh"
      }
    },
    {
      "cell_type": "code",
      "source": [
        "x = [\"apple\", \"banana\", \"cherry\"]\n",
        "\n",
        "#display x:\n",
        "print(x)\n",
        "\n",
        "#display the data type of x:\n",
        "print(type(x))"
      ],
      "metadata": {
        "colab": {
          "base_uri": "https://localhost:8080/"
        },
        "id": "amH3WpHOq2f9",
        "outputId": "4d6f3642-a31f-463a-b5fe-979d292eba67"
      },
      "execution_count": null,
      "outputs": [
        {
          "output_type": "stream",
          "name": "stdout",
          "text": [
            "['apple', 'banana', 'cherry']\n",
            "<class 'list'>\n"
          ]
        }
      ]
    },
    {
      "cell_type": "markdown",
      "source": [
        "###tuple:"
      ],
      "metadata": {
        "id": "oO6LhJ1Eq5IH"
      }
    },
    {
      "cell_type": "code",
      "source": [
        "x = (\"apple\", \"banana\", \"cherry\")\n",
        "\n",
        "#display x:\n",
        "print(x)\n",
        "\n",
        "#display the data type of x:\n",
        "print(type(x))"
      ],
      "metadata": {
        "colab": {
          "base_uri": "https://localhost:8080/"
        },
        "id": "9hWhf4xUq-Mf",
        "outputId": "5af0f200-b663-49f5-c3f4-99dc6bf9769a"
      },
      "execution_count": null,
      "outputs": [
        {
          "output_type": "stream",
          "name": "stdout",
          "text": [
            "('apple', 'banana', 'cherry')\n",
            "<class 'tuple'>\n"
          ]
        }
      ]
    },
    {
      "cell_type": "markdown",
      "source": [
        "###range:"
      ],
      "metadata": {
        "id": "3UisB4DnrJ8H"
      }
    },
    {
      "cell_type": "code",
      "source": [
        "x = range(6)\n",
        "\n",
        "#display x:\n",
        "print(x)\n",
        "\n",
        "#display the data type of x:\n",
        "print(type(x))"
      ],
      "metadata": {
        "colab": {
          "base_uri": "https://localhost:8080/"
        },
        "id": "eIyNTX44rO43",
        "outputId": "b75c770f-a11f-4471-d6a7-c78a65f1c722"
      },
      "execution_count": null,
      "outputs": [
        {
          "output_type": "stream",
          "name": "stdout",
          "text": [
            "range(0, 6)\n",
            "<class 'range'>\n"
          ]
        }
      ]
    },
    {
      "cell_type": "markdown",
      "source": [
        "###range:"
      ],
      "metadata": {
        "id": "9fMlz1xGremo"
      }
    },
    {
      "cell_type": "markdown",
      "source": [
        "##Mapping Type:\n",
        "###dict:"
      ],
      "metadata": {
        "id": "q6saDfbTrYOA"
      }
    },
    {
      "cell_type": "code",
      "source": [
        "x = {\"name\" : \"John\", \"age\" : 36}\n",
        "\n",
        "#display x:\n",
        "print(x)\n",
        "\n",
        "#display the data type of x:\n",
        "print(type(x))"
      ],
      "metadata": {
        "colab": {
          "base_uri": "https://localhost:8080/"
        },
        "id": "Y4tfTV69rwSB",
        "outputId": "c893efcf-cd3d-4229-d19b-663bb56f63d0"
      },
      "execution_count": null,
      "outputs": [
        {
          "output_type": "stream",
          "name": "stdout",
          "text": [
            "{'name': 'John', 'age': 36}\n",
            "<class 'dict'>\n"
          ]
        }
      ]
    },
    {
      "cell_type": "markdown",
      "source": [
        "##Set Types:\n",
        "###set, frozenset"
      ],
      "metadata": {
        "id": "GgqztybAr3H_"
      }
    },
    {
      "cell_type": "markdown",
      "source": [
        "###set:"
      ],
      "metadata": {
        "id": "Tz8yBLTHsEV2"
      }
    },
    {
      "cell_type": "code",
      "source": [
        "x = {\"apple\", \"banana\", \"cherry\"}\n",
        "\n",
        "#display x:\n",
        "print(x)\n",
        "\n",
        "#display the data type of x:\n",
        "print(type(x))"
      ],
      "metadata": {
        "colab": {
          "base_uri": "https://localhost:8080/"
        },
        "id": "fr6228L_sHMV",
        "outputId": "c5efd2e8-cb46-4e35-b06d-1864435ed650"
      },
      "execution_count": null,
      "outputs": [
        {
          "output_type": "stream",
          "name": "stdout",
          "text": [
            "{'banana', 'apple', 'cherry'}\n",
            "<class 'set'>\n"
          ]
        }
      ]
    },
    {
      "cell_type": "markdown",
      "source": [
        "###frozenset:"
      ],
      "metadata": {
        "id": "FLsvmnfxsM90"
      }
    },
    {
      "cell_type": "code",
      "source": [
        "x = frozenset({\"apple\", \"banana\", \"cherry\"})\n",
        "\n",
        "#display x:\n",
        "print(x)\n",
        "\n",
        "#display the data type of x:\n",
        "print(type(x))"
      ],
      "metadata": {
        "colab": {
          "base_uri": "https://localhost:8080/"
        },
        "id": "sAOK4d5TsSad",
        "outputId": "5df75f99-a81b-4418-be2d-3e7da910b7ea"
      },
      "execution_count": null,
      "outputs": [
        {
          "output_type": "stream",
          "name": "stdout",
          "text": [
            "frozenset({'banana', 'apple', 'cherry'})\n",
            "<class 'frozenset'>\n"
          ]
        }
      ]
    },
    {
      "cell_type": "markdown",
      "source": [
        "##Boolean Type:\n",
        "###bool:"
      ],
      "metadata": {
        "id": "A7zSREgJsXoQ"
      }
    },
    {
      "cell_type": "code",
      "source": [
        "x = True\n",
        "\n",
        "#display x:\n",
        "print(x)\n",
        "\n",
        "#display the data type of x:\n",
        "print(type(x))"
      ],
      "metadata": {
        "colab": {
          "base_uri": "https://localhost:8080/"
        },
        "id": "Did-e8KWseWl",
        "outputId": "893d9dd7-3784-4549-c3af-45dd09049d08"
      },
      "execution_count": null,
      "outputs": [
        {
          "output_type": "stream",
          "name": "stdout",
          "text": [
            "True\n",
            "<class 'bool'>\n"
          ]
        }
      ]
    },
    {
      "cell_type": "markdown",
      "source": [
        "##Binary Types:\n",
        "###bytes, bytearray, memoryview"
      ],
      "metadata": {
        "id": "vgoDdi1pskcQ"
      }
    },
    {
      "cell_type": "markdown",
      "source": [
        "###bytes:"
      ],
      "metadata": {
        "id": "82BP3WIusseg"
      }
    },
    {
      "cell_type": "code",
      "source": [
        "x = b\"Hello\"\n",
        "\n",
        "#display x:\n",
        "print(x)\n",
        "\n",
        "#display the data type of x:\n",
        "print(type(x))"
      ],
      "metadata": {
        "colab": {
          "base_uri": "https://localhost:8080/"
        },
        "id": "0lGBkaVpsw_H",
        "outputId": "c2c8c620-899d-4e59-f6a3-a12d16c2fe16"
      },
      "execution_count": null,
      "outputs": [
        {
          "output_type": "stream",
          "name": "stdout",
          "text": [
            "b'Hello'\n",
            "<class 'bytes'>\n"
          ]
        }
      ]
    },
    {
      "cell_type": "markdown",
      "source": [
        "###bytearray:"
      ],
      "metadata": {
        "id": "ho65kgtLs59A"
      }
    },
    {
      "cell_type": "code",
      "source": [
        "x = bytearray(5)\n",
        "\n",
        "#display x:\n",
        "print(x)\n",
        "\n",
        "#display the data type of x:\n",
        "print(type(x))"
      ],
      "metadata": {
        "colab": {
          "base_uri": "https://localhost:8080/"
        },
        "id": "_4IZ-TObs9l2",
        "outputId": "540bb22d-68ee-4db5-d4c3-b50a3c5eff74"
      },
      "execution_count": null,
      "outputs": [
        {
          "output_type": "stream",
          "name": "stdout",
          "text": [
            "bytearray(b'\\x00\\x00\\x00\\x00\\x00')\n",
            "<class 'bytearray'>\n"
          ]
        }
      ]
    },
    {
      "cell_type": "markdown",
      "source": [
        "###memoryview:"
      ],
      "metadata": {
        "id": "VzGK6KFktCkg"
      }
    },
    {
      "cell_type": "code",
      "source": [
        "x = memoryview(bytes(5))\n",
        "\n",
        "#display x:\n",
        "print(x)\n",
        "\n",
        "#display the data type of x:\n",
        "print(type(x))"
      ],
      "metadata": {
        "colab": {
          "base_uri": "https://localhost:8080/"
        },
        "id": "VMrQy5hMtFAP",
        "outputId": "30fa8efc-288a-4b95-e4ba-bf52c9d1a995"
      },
      "execution_count": null,
      "outputs": [
        {
          "output_type": "stream",
          "name": "stdout",
          "text": [
            "<memory at 0x78c209e1c280>\n",
            "<class 'memoryview'>\n"
          ]
        }
      ]
    },
    {
      "cell_type": "markdown",
      "source": [
        "##None Type:\n",
        "###NoneType:"
      ],
      "metadata": {
        "id": "PEFoueHZtKJ_"
      }
    },
    {
      "cell_type": "code",
      "source": [
        "x = None\n",
        "\n",
        "#display x:\n",
        "print(x)\n",
        "\n",
        "#display the data type of x:\n",
        "print(type(x))"
      ],
      "metadata": {
        "colab": {
          "base_uri": "https://localhost:8080/"
        },
        "id": "qQz18VOetRaQ",
        "outputId": "a4bf6951-799a-4982-f2fd-e3c1e5ceda1c"
      },
      "execution_count": null,
      "outputs": [
        {
          "output_type": "stream",
          "name": "stdout",
          "text": [
            "None\n",
            "<class 'NoneType'>\n"
          ]
        }
      ]
    },
    {
      "cell_type": "markdown",
      "source": [
        "##2.1 Variables?\n",
        "Variables are containers for storing data values.\n",
        "###Creating Variables\n",
        "Python has no command for declaring a variable.\n",
        "\n",
        "A variable is created the moment you first assign a value to it."
      ],
      "metadata": {
        "id": "Xb_5S_jjtsiB"
      }
    },
    {
      "cell_type": "code",
      "source": [
        "x = 5\n",
        "y = \"John\"\n",
        "print(x)\n",
        "print(y)"
      ],
      "metadata": {
        "id": "44EAU-fhuLgq",
        "outputId": "0523ca0f-5a31-44e4-8725-5fc70ecedb9d",
        "colab": {
          "base_uri": "https://localhost:8080/"
        }
      },
      "execution_count": null,
      "outputs": [
        {
          "output_type": "stream",
          "name": "stdout",
          "text": [
            "5\n",
            "John\n"
          ]
        }
      ]
    },
    {
      "cell_type": "markdown",
      "source": [
        "###2.1.1. Local variable:\n",
        "Python local variable plays an important role in the entire python programming language as it is used for any scope definition and manipulation. A local variable in Python is always declared within a specific scope like it is mostly present within any function’s body where other members can access it."
      ],
      "metadata": {
        "id": "8eGK63GruS7K"
      }
    },
    {
      "cell_type": "code",
      "source": [
        "def dinner_prep():\n",
        "  dine = 'Pizza_with_extra_topping'\n",
        "  print('Please have a pizza with extra_topping', dine)\n",
        "dinner_prep()"
      ],
      "metadata": {
        "id": "F-C_r5aruxjc",
        "outputId": "7c5e01a5-e9e4-439b-fd3c-01c4ae94ff2f",
        "colab": {
          "base_uri": "https://localhost:8080/"
        }
      },
      "execution_count": null,
      "outputs": [
        {
          "output_type": "stream",
          "name": "stdout",
          "text": [
            "Please have a pizza with extra_topping Pizza_with_extra_topping\n"
          ]
        }
      ]
    },
    {
      "cell_type": "markdown",
      "source": [
        "###2.1.2. Gobal variable:\n",
        "Variables that are created outside of a function (as in all of the examples above) are known as global variables.\n",
        "\n",
        "Global variables can be used by everyone, both inside of functions and outside."
      ],
      "metadata": {
        "id": "T8epVoflu-WS"
      }
    },
    {
      "cell_type": "code",
      "source": [
        "x = \"awesome\"\n",
        "\n",
        "def myfunc():\n",
        "  print(\"Python is \" + x)\n",
        "\n",
        "myfunc()"
      ],
      "metadata": {
        "id": "qFMHdRrUvMQ6",
        "outputId": "6e5f5a96-ae09-4093-b3c7-e59104635131",
        "colab": {
          "base_uri": "https://localhost:8080/"
        }
      },
      "execution_count": null,
      "outputs": [
        {
          "output_type": "stream",
          "name": "stdout",
          "text": [
            "Python is awesome\n"
          ]
        }
      ]
    },
    {
      "cell_type": "markdown",
      "source": [
        "###2.1.3. Gobal variable:\n",
        "A global keyword is a keyword that allows a user to modify a variable outside the current scope. It is used to create global variables in Python from a non-global scope, i.e. inside a function. Global keyword is used inside a function only when we want to do assignments or when we want to change a variable. Global is not needed for printing and accessing."
      ],
      "metadata": {
        "id": "ID3uTQBxvdcq"
      }
    },
    {
      "cell_type": "code",
      "source": [
        "x = 15\n",
        "\n",
        "\n",
        "def change():\n",
        "\t# using a global keyword\n",
        "\tglobal x\n",
        "\n",
        "\t# increment value of a by 5\n",
        "\tx = x + 5\n",
        "\tprint(\"Value of x inside a function :\", x)\n",
        "\n",
        "\n",
        "change()\n",
        "print(\"Value of x outside a function :\", x)\n"
      ],
      "metadata": {
        "id": "dpZPHPCtvkLC",
        "outputId": "626c76bd-aa84-4383-bb61-23558fc9b1d9",
        "colab": {
          "base_uri": "https://localhost:8080/"
        }
      },
      "execution_count": null,
      "outputs": [
        {
          "output_type": "stream",
          "name": "stdout",
          "text": [
            "Value of x inside a function : 20\n",
            "Value of x outside a function : 20\n"
          ]
        }
      ]
    },
    {
      "cell_type": "markdown",
      "source": [
        "###2.2 Numbers:\n",
        "There are three numeric types in Python:\n",
        "int,\n",
        "float,\n",
        "complex"
      ],
      "metadata": {
        "id": "0WSVPJdKv1SC"
      }
    },
    {
      "cell_type": "code",
      "source": [
        "x = 1    # int\n",
        "y = 2.8  # float\n",
        "z = 1j   # complex\n",
        "print(type(x))\n",
        "print(type(y))\n",
        "print(type(z))"
      ],
      "metadata": {
        "id": "BcIC3x9ewHLq",
        "outputId": "2e1f919c-2a9f-4e28-8ad1-09a2890be4eb",
        "colab": {
          "base_uri": "https://localhost:8080/"
        }
      },
      "execution_count": null,
      "outputs": [
        {
          "output_type": "stream",
          "name": "stdout",
          "text": [
            "<class 'int'>\n",
            "<class 'float'>\n",
            "<class 'complex'>\n"
          ]
        }
      ]
    },
    {
      "cell_type": "markdown",
      "source": [
        "###2.3 Strings:\n",
        "Strings in python are surrounded by either single quotation marks, or double quotation marks.\n",
        "\n",
        "'hello' is the same as \"hello\".\n",
        "\n",
        "You can display a string literal with the print() function:"
      ],
      "metadata": {
        "id": "AmmrNFFqwWWT"
      }
    },
    {
      "cell_type": "code",
      "source": [
        "print(\"Hello\")\n",
        "print('Hello')"
      ],
      "metadata": {
        "id": "sAMlvTbYwjud",
        "outputId": "3ac49059-fe96-4afa-d57a-1eb4adaa9ad0",
        "colab": {
          "base_uri": "https://localhost:8080/"
        }
      },
      "execution_count": null,
      "outputs": [
        {
          "output_type": "stream",
          "name": "stdout",
          "text": [
            "Hello\n",
            "Hello\n"
          ]
        }
      ]
    },
    {
      "cell_type": "markdown",
      "source": [
        "###2.3.1. String Length:\n",
        "To get the length of a string, use the len() function."
      ],
      "metadata": {
        "id": "ua11HmAQwvuN"
      }
    },
    {
      "cell_type": "code",
      "source": [
        "a = \"Hello, World!\"\n",
        "print(len(a))"
      ],
      "metadata": {
        "id": "AuU21zt4w3ZO",
        "outputId": "ff0e1f5a-46b0-4bb2-d584-45b61d12e3a6",
        "colab": {
          "base_uri": "https://localhost:8080/"
        }
      },
      "execution_count": null,
      "outputs": [
        {
          "output_type": "stream",
          "name": "stdout",
          "text": [
            "13\n"
          ]
        }
      ]
    },
    {
      "cell_type": "markdown",
      "source": [
        "###2.3.2. String Method:\n",
        "Python has a set of built-in methods that you can use on strings."
      ],
      "metadata": {
        "id": "dWd-pzxQxK9C"
      }
    },
    {
      "cell_type": "markdown",
      "source": [
        "capitalize():\n",
        "Converts the first character to upper case"
      ],
      "metadata": {
        "id": "M4hueUEixXFe"
      }
    },
    {
      "cell_type": "code",
      "source": [
        "txt = \"hello, and welcome to my world.\"\n",
        "\n",
        "x = txt.capitalize()\n",
        "\n",
        "print (x)"
      ],
      "metadata": {
        "id": "GfT86_6axacN",
        "outputId": "4cd194ed-6ac2-4006-d01c-ef744b3ce415",
        "colab": {
          "base_uri": "https://localhost:8080/"
        }
      },
      "execution_count": null,
      "outputs": [
        {
          "output_type": "stream",
          "name": "stdout",
          "text": [
            "Hello, and welcome to my world.\n"
          ]
        }
      ]
    },
    {
      "cell_type": "markdown",
      "source": [
        "casefold():\tConverts string into lower case"
      ],
      "metadata": {
        "id": "BXHVTEcPxlJW"
      }
    },
    {
      "cell_type": "code",
      "source": [
        "txt = \"Hello, And Welcome To My World!\"\n",
        "\n",
        "x = txt.casefold()\n",
        "\n",
        "print(x)"
      ],
      "metadata": {
        "id": "h6umqvjtxvQA",
        "outputId": "0a6d5e19-e83e-480a-9604-83a315d51ed8",
        "colab": {
          "base_uri": "https://localhost:8080/"
        }
      },
      "execution_count": null,
      "outputs": [
        {
          "output_type": "stream",
          "name": "stdout",
          "text": [
            "hello, and welcome to my world!\n"
          ]
        }
      ]
    },
    {
      "cell_type": "markdown",
      "source": [
        "center():\tReturns a centered string"
      ],
      "metadata": {
        "id": "tE14pnG2xy-5"
      }
    },
    {
      "cell_type": "code",
      "source": [
        "txt = \"banana\"\n",
        "\n",
        "x = txt.center(20)\n",
        "\n",
        "print(x)"
      ],
      "metadata": {
        "id": "Ep88yycSx0Xb",
        "outputId": "c57ec44b-7450-4377-8cc2-f6b1889a694b",
        "colab": {
          "base_uri": "https://localhost:8080/"
        }
      },
      "execution_count": null,
      "outputs": [
        {
          "output_type": "stream",
          "name": "stdout",
          "text": [
            "       banana       \n"
          ]
        }
      ]
    },
    {
      "cell_type": "markdown",
      "source": [
        "count():\tReturns the number of times a specified value occurs in a string"
      ],
      "metadata": {
        "id": "p-iLjDApx3xC"
      }
    },
    {
      "cell_type": "code",
      "source": [
        "txt = \"I love apples, apple are my favorite fruit\"\n",
        "\n",
        "x = txt.count(\"apple\")\n",
        "\n",
        "print(x)"
      ],
      "metadata": {
        "id": "ULbooGNax6Lj",
        "outputId": "bc6d5c6e-b91d-4912-8152-85a115f8259b",
        "colab": {
          "base_uri": "https://localhost:8080/"
        }
      },
      "execution_count": null,
      "outputs": [
        {
          "output_type": "stream",
          "name": "stdout",
          "text": [
            "2\n"
          ]
        }
      ]
    },
    {
      "cell_type": "markdown",
      "source": [
        "encode():\tReturns an encoded version of the string"
      ],
      "metadata": {
        "id": "8sLfCA_Rx-sz"
      }
    },
    {
      "cell_type": "code",
      "source": [
        "txt = \"My name is Ståle\"\n",
        "\n",
        "x = txt.encode()\n",
        "\n",
        "print(x)"
      ],
      "metadata": {
        "id": "ydYsBhT7yBV6",
        "outputId": "c3e73a85-2b91-477b-a430-cd374a0c6434",
        "colab": {
          "base_uri": "https://localhost:8080/"
        }
      },
      "execution_count": null,
      "outputs": [
        {
          "output_type": "stream",
          "name": "stdout",
          "text": [
            "b'My name is St\\xc3\\xa5le'\n"
          ]
        }
      ]
    },
    {
      "cell_type": "markdown",
      "source": [
        "endswith():\tReturns true if the string ends with the specified value"
      ],
      "metadata": {
        "id": "wosSpMNxyKIk"
      }
    },
    {
      "cell_type": "code",
      "source": [
        "txt = \"Hello, welcome to my world.\"\n",
        "\n",
        "x = txt.endswith(\".\")\n",
        "\n",
        "print(x)"
      ],
      "metadata": {
        "id": "lfSvys4vyLcc",
        "outputId": "1dfc8c57-cd20-4a20-8dc7-8264a239a4a0",
        "colab": {
          "base_uri": "https://localhost:8080/"
        }
      },
      "execution_count": null,
      "outputs": [
        {
          "output_type": "stream",
          "name": "stdout",
          "text": [
            "True\n"
          ]
        }
      ]
    },
    {
      "cell_type": "markdown",
      "source": [
        "expandtabs():\tSets the tab size of the string"
      ],
      "metadata": {
        "id": "-2RJd_RGyOZ7"
      }
    },
    {
      "cell_type": "code",
      "source": [
        "txt = \"H\\te\\tl\\tl\\to\"\n",
        "\n",
        "x =  txt.expandtabs(2)\n",
        "\n",
        "print(x)"
      ],
      "metadata": {
        "id": "A7u_1IQFyRvG",
        "outputId": "f917f771-84e2-4b2b-ce3a-c7ef50a31b54",
        "colab": {
          "base_uri": "https://localhost:8080/"
        }
      },
      "execution_count": null,
      "outputs": [
        {
          "output_type": "stream",
          "name": "stdout",
          "text": [
            "H e l l o\n"
          ]
        }
      ]
    },
    {
      "cell_type": "markdown",
      "source": [
        "find():\tSearches the string for a specified value and returns the position of where it was found"
      ],
      "metadata": {
        "id": "ZAn4fp6UyXts"
      }
    },
    {
      "cell_type": "code",
      "source": [
        "txt = \"Hello, welcome to my world.\"\n",
        "\n",
        "x = txt.find(\"welcome\")\n",
        "\n",
        "print(x)"
      ],
      "metadata": {
        "id": "M5Ly6X2lyaKV",
        "outputId": "5941503b-0b8b-467e-e908-bea135ac4d17",
        "colab": {
          "base_uri": "https://localhost:8080/"
        }
      },
      "execution_count": null,
      "outputs": [
        {
          "output_type": "stream",
          "name": "stdout",
          "text": [
            "7\n"
          ]
        }
      ]
    },
    {
      "cell_type": "markdown",
      "source": [
        "format():\tFormats specified values in a string\n",
        "\n",
        "*   List item\n",
        "*   List item\n",
        "\n"
      ],
      "metadata": {
        "id": "dDx8AOoxycTG"
      }
    },
    {
      "cell_type": "code",
      "source": [
        "txt = \"For only {price:.2f} dollars!\"\n",
        "print(txt.format(price = 49))"
      ],
      "metadata": {
        "id": "Hfi9z93byetF",
        "outputId": "52939605-8b5a-45da-b4ca-f0ef4075f7da",
        "colab": {
          "base_uri": "https://localhost:8080/"
        }
      },
      "execution_count": null,
      "outputs": [
        {
          "output_type": "stream",
          "name": "stdout",
          "text": [
            "For only 49.00 dollars!\n"
          ]
        }
      ]
    },
    {
      "cell_type": "markdown",
      "source": [
        "format_map():\tFormats specified values in a string"
      ],
      "metadata": {
        "id": "rsqxS-fTyr6G"
      }
    },
    {
      "cell_type": "code",
      "source": [
        "# input stored in variable a.\n",
        "a = {'x':'John', 'y':'Wick'}\n",
        "\n",
        "# Use of format_map() function\n",
        "print(\"{x}'s last name is {y}\".format_map(a))"
      ],
      "metadata": {
        "id": "HsFkiMvEytAA",
        "outputId": "bb8cf764-c126-45c2-baa1-d09ae7465e91",
        "colab": {
          "base_uri": "https://localhost:8080/"
        }
      },
      "execution_count": null,
      "outputs": [
        {
          "output_type": "stream",
          "name": "stdout",
          "text": [
            "John's last name is Wick\n"
          ]
        }
      ]
    },
    {
      "cell_type": "markdown",
      "source": [
        "###2.3.3. Accesing the value of string:\n",
        "Depending upon how you want to go at it, CosmicComputer is right to refer you to Regular Expressions. If your syntax is this simple, you could always do something like:"
      ],
      "metadata": {
        "id": "I_AVcp8VzJiL"
      }
    },
    {
      "cell_type": "code",
      "source": [
        "line = 'Found mode 1 of 12: EV= 1.5185449E+04, f= 19.612545, T= 0.050988.'\n",
        "\n",
        "splitByComma=line.split(',')\n",
        "\n",
        "fValue = splitByComma[1].replace('f= ', '').strip()\n",
        "print(fValue)"
      ],
      "metadata": {
        "id": "WOePprAWzUW7",
        "outputId": "6aaf5e98-7ba2-48df-dfb4-d448c68a14b1",
        "colab": {
          "base_uri": "https://localhost:8080/"
        }
      },
      "execution_count": null,
      "outputs": [
        {
          "output_type": "stream",
          "name": "stdout",
          "text": [
            "19.612545\n"
          ]
        }
      ]
    },
    {
      "cell_type": "markdown",
      "source": [
        "###2.3.4. Update the String:\n",
        "Python has a set of built-in methods that you can use on strings. Upper Case,Lower Case,Remove Whitespace,Replace String,Split String"
      ],
      "metadata": {
        "id": "P8b_55pmzgpj"
      }
    },
    {
      "cell_type": "markdown",
      "source": [
        "###2.3.4. String Special operators:\n",
        "In python, String operators represent the different types of operations that can be employed on the program’s string type of variables. Python allows several string operators that can be applied on the python string are as below:\n",
        "\n",
        "1. Assignment operator: “=.”\n",
        "2. Concatenate operator: “+.”\n",
        "3. String repetition operator: “*.”\n",
        "4. String slicing operator: “[]”\n",
        "5. String comparison operator: “==” & “!=”\n",
        "6. Membership operator: “in” & “not in”\n",
        "7. Escape sequence operator: “\\.”\n",
        "8. String formatting operator: “%” & “{}”"
      ],
      "metadata": {
        "id": "LeW-Ny3Ad07d"
      }
    },
    {
      "cell_type": "markdown",
      "source": [
        "Example #1 – Assignment Operator “=”"
      ],
      "metadata": {
        "id": "aoASWVsSeR0H"
      }
    },
    {
      "cell_type": "code",
      "source": [
        "string1 = \"hello\"\n",
        "string2 = 'hello'\n",
        "string3 = '''hello'''\n",
        "print(string1)\n",
        "print(string2)\n",
        "print(string3)"
      ],
      "metadata": {
        "colab": {
          "base_uri": "https://localhost:8080/"
        },
        "id": "_Ps023LQeXae",
        "outputId": "1d11b1a6-dace-4a09-b021-8c4408c8b980"
      },
      "execution_count": null,
      "outputs": [
        {
          "output_type": "stream",
          "name": "stdout",
          "text": [
            "hello\n",
            "hello\n",
            "hello\n"
          ]
        }
      ]
    },
    {
      "cell_type": "markdown",
      "source": [
        "Example #2 – Concatenate Operator “+”"
      ],
      "metadata": {
        "id": "o2_OtFJCefuW"
      }
    },
    {
      "cell_type": "code",
      "source": [
        "string1 = \"hello\"\n",
        "string2 = \"world \"\n",
        "string_combined = string1+string2\n",
        "print(string_combined)"
      ],
      "metadata": {
        "colab": {
          "base_uri": "https://localhost:8080/"
        },
        "id": "twtTG7S6ehZm",
        "outputId": "aa701934-95e4-463a-ecd7-c78e246af525"
      },
      "execution_count": null,
      "outputs": [
        {
          "output_type": "stream",
          "name": "stdout",
          "text": [
            "helloworld \n"
          ]
        }
      ]
    },
    {
      "cell_type": "markdown",
      "source": [
        "Example #3 – String Repetition Operator “*”"
      ],
      "metadata": {
        "id": "VACAE0QDejs2"
      }
    },
    {
      "cell_type": "code",
      "source": [
        "string1 = \"helloworld \"\n",
        "print(string1*2)\n",
        "print(string1*3)\n",
        "print(string1*4)\n",
        "print(string1*5)"
      ],
      "metadata": {
        "colab": {
          "base_uri": "https://localhost:8080/"
        },
        "id": "HYAhKmYaekNv",
        "outputId": "0e63354f-149f-43e9-8e47-2ec591fc964e"
      },
      "execution_count": null,
      "outputs": [
        {
          "output_type": "stream",
          "name": "stdout",
          "text": [
            "helloworld helloworld \n",
            "helloworld helloworld helloworld \n",
            "helloworld helloworld helloworld helloworld \n",
            "helloworld helloworld helloworld helloworld helloworld \n"
          ]
        }
      ]
    },
    {
      "cell_type": "markdown",
      "source": [
        "Example #4 – String slicing operator “[]”"
      ],
      "metadata": {
        "id": "e3nFjnWpeo53"
      }
    },
    {
      "cell_type": "code",
      "source": [
        "string1 = \"helloworld\"\n",
        "print(string1[1])\n",
        "print(string1[-3])\n",
        "print(string1[1:5])\n",
        "print(string1[1:-3])\n",
        "print(string1[2:])\n",
        "print(string1[:5])\n",
        "print(string1[:-2])\n",
        "print(string1[-2:])\n",
        "print(string1[::-1])"
      ],
      "metadata": {
        "colab": {
          "base_uri": "https://localhost:8080/"
        },
        "id": "4bzlpARberue",
        "outputId": "15fa9555-f4f1-43db-ffbd-7de85fd78f96"
      },
      "execution_count": null,
      "outputs": [
        {
          "output_type": "stream",
          "name": "stdout",
          "text": [
            "e\n",
            "r\n",
            "ello\n",
            "ellowo\n",
            "lloworld\n",
            "hello\n",
            "hellowor\n",
            "ld\n",
            "dlrowolleh\n"
          ]
        }
      ]
    },
    {
      "cell_type": "markdown",
      "source": [
        "Example #5 – String Comparison Operator “==” & “!=”"
      ],
      "metadata": {
        "id": "235MBHihexQH"
      }
    },
    {
      "cell_type": "code",
      "source": [
        "string1 = \"hello\"\n",
        "string2 = \"hello, world\"\n",
        "string3 = \"hello, world\"\n",
        "string4 = \"world\"\n",
        "print(string1==string4)\n",
        "print(string2==string3)\n",
        "print(string1!=string4)\n",
        "print(string2!=string3)"
      ],
      "metadata": {
        "colab": {
          "base_uri": "https://localhost:8080/"
        },
        "id": "r4b_drGHezYa",
        "outputId": "c394e0d4-bdcc-48ac-9f3f-9970bc1f46e5"
      },
      "execution_count": null,
      "outputs": [
        {
          "output_type": "stream",
          "name": "stdout",
          "text": [
            "False\n",
            "True\n",
            "True\n",
            "False\n"
          ]
        }
      ]
    },
    {
      "cell_type": "markdown",
      "source": [
        "Example #6 – Membership Operator “in” & “not in”"
      ],
      "metadata": {
        "id": "5_23MoADe2QR"
      }
    },
    {
      "cell_type": "code",
      "source": [
        "string1 = \"helloworld\"\n",
        "print(\"w\" in string1)\n",
        "print(\"W\" in string1)\n",
        "print(\"t\" in string1)\n",
        "print(\"t\" not in string1)\n",
        "print(\"hello\" in string1)\n",
        "print(\"Hello\" in string1)\n",
        "print(\"hello\" not in string1)"
      ],
      "metadata": {
        "colab": {
          "base_uri": "https://localhost:8080/"
        },
        "id": "Psu8ZD_Ie4rY",
        "outputId": "083a7ba0-aa04-4001-b89d-0c7968f9f812"
      },
      "execution_count": null,
      "outputs": [
        {
          "output_type": "stream",
          "name": "stdout",
          "text": [
            "True\n",
            "False\n",
            "False\n",
            "True\n",
            "True\n",
            "False\n",
            "False\n"
          ]
        }
      ]
    },
    {
      "cell_type": "markdown",
      "source": [
        "### 2.3.6. String Formatting operators\n",
        "String formatting in Python\n",
        "There are five different ways to perform string formatting in Python\n",
        "Formatting with % Operator.\n",
        "Formatting with format() string method.\n",
        "Formatting with string literals, called f-strings.\n",
        "Formatting with String Template Class\n",
        "Formatting with center() string method.\n",
        "So we will see the entirety of the above-mentioned ways, and we will also focus on which string formatting strategy is the best."
      ],
      "metadata": {
        "id": "WeJ6SigjfbE5"
      }
    },
    {
      "cell_type": "markdown",
      "source": [
        "##2.4 Lists\n",
        "Lists are used to store multiple items in a single variable.\n",
        "\n",
        "Lists are one of 4 built-in data types in Python used to store collections of data, the other 3 are Tuple, Set, and Dictionary, all with different qualities and usage.\n",
        "\n",
        "Lists are created using square brackets:"
      ],
      "metadata": {
        "id": "gX5eAZpnf2mJ"
      }
    },
    {
      "cell_type": "code",
      "source": [
        "thislist = [\"apple\", \"banana\", \"cherry\"]\n",
        "print(thislist)"
      ],
      "metadata": {
        "colab": {
          "base_uri": "https://localhost:8080/"
        },
        "id": "276hyofxgD3L",
        "outputId": "c0cb0076-e51a-440a-f123-c9233ed018c2"
      },
      "execution_count": null,
      "outputs": [
        {
          "output_type": "stream",
          "name": "stdout",
          "text": [
            "['apple', 'banana', 'cherry']\n"
          ]
        }
      ]
    },
    {
      "cell_type": "markdown",
      "source": [
        "###2.4.1. Create a List\n",
        "Here we are creating Python List using []."
      ],
      "metadata": {
        "id": "aNgWq98RgTdC"
      }
    },
    {
      "cell_type": "code",
      "source": [
        "\n",
        "Var = [\"Geeks\", \"for\", \"Geeks\"]\n",
        "print(Var)"
      ],
      "metadata": {
        "colab": {
          "base_uri": "https://localhost:8080/"
        },
        "id": "BZ9IavN0gZo7",
        "outputId": "2c39b69b-e6b0-46fd-b6dd-4b5a1892ab60"
      },
      "execution_count": null,
      "outputs": [
        {
          "output_type": "stream",
          "name": "stdout",
          "text": [
            "['Geeks', 'for', 'Geeks']\n"
          ]
        }
      ]
    },
    {
      "cell_type": "markdown",
      "source": [
        "###2.4.2. Access values of List\n"
      ],
      "metadata": {
        "id": "HpNnEbYaguF3"
      }
    },
    {
      "cell_type": "code",
      "source": [
        "my_list = [21, 44, 35, 11]\n",
        "\n",
        "for index, val in enumerate(my_list):\n",
        "    print(index, val)"
      ],
      "metadata": {
        "colab": {
          "base_uri": "https://localhost:8080/"
        },
        "id": "aNMsj_G4gxvS",
        "outputId": "008ea127-ea6c-4210-df32-5d875fe4f506"
      },
      "execution_count": null,
      "outputs": [
        {
          "output_type": "stream",
          "name": "stdout",
          "text": [
            "0 21\n",
            "1 44\n",
            "2 35\n",
            "3 11\n"
          ]
        }
      ]
    },
    {
      "cell_type": "markdown",
      "source": [
        "###2.4.3. Update the List\n",
        "You can update single or multiple elements of lists by giving the slice on the left-hand side of the assignment operator, and you can add to elements in a list with the append() method."
      ],
      "metadata": {
        "id": "ye523mmkg2Rq"
      }
    },
    {
      "cell_type": "code",
      "source": [
        "my_list = ['physics', 'chemistry', 1997, 2000]\n",
        "\n",
        "print(\"Value available at index 2:\")\n",
        "print(my_list[2])\n",
        "\n",
        "my_list[2] = 2001\n",
        "\n",
        "print(\"New value available at index 2:\")\n",
        "print(my_list[2])\n"
      ],
      "metadata": {
        "colab": {
          "base_uri": "https://localhost:8080/"
        },
        "id": "7RC3sc33g_sz",
        "outputId": "cbb2b351-bf8c-4abc-fd9f-e5768547fc7c"
      },
      "execution_count": null,
      "outputs": [
        {
          "output_type": "stream",
          "name": "stdout",
          "text": [
            "Value available at index 2:\n",
            "1997\n",
            "New value available at index 2:\n",
            "2001\n"
          ]
        }
      ]
    },
    {
      "cell_type": "markdown",
      "source": [
        "###2.4.4. Addition in List\n",
        "There are four methods to add elements to a List in Python.\n",
        "\n",
        "1. append(): append the element to the end of the list.\n",
        "2. insert(): inserts the element before the given index.\n",
        "3. extend(): extends the list by appending elements from the iterable.\n",
        "4. List Concatenation: We can use the + operator to concatenate multiple lists and create a new list."
      ],
      "metadata": {
        "id": "nS7nj6PMpFfw"
      }
    },
    {
      "cell_type": "markdown",
      "source": [
        "### 2.4.5. Deletion Methods in List\n",
        "There are three ways in which you can Remove elements from List:\n",
        "\n",
        "1. Using the remove() method\n",
        "2. Using the list object’s pop() method\n",
        "3. Using the del operator\n"
      ],
      "metadata": {
        "id": "vEhK2SOIpc6-"
      }
    },
    {
      "cell_type": "markdown",
      "source": [
        "List Object’s remove() method:\n",
        "The remove() method is one of the most commonly used list object methods to remove an item or an element from the list. When you use this method, you will need to specify the particular item that is to be removed. Note that, if there are multiple occurrences of the item specified, then its first occurrence will be removed from the list.  We can consider this method as “removal by item’s value”. If the particular item to be removed is not found, then a ValueError is raised."
      ],
      "metadata": {
        "id": "jjTIWAu3pt6P"
      }
    },
    {
      "cell_type": "code",
      "source": [
        "myList = [\"Bran\",11,22,33,\"Stark\",22,33,11]\n",
        "\n",
        "myList.remove(22)\n",
        "\n",
        "myList"
      ],
      "metadata": {
        "colab": {
          "base_uri": "https://localhost:8080/"
        },
        "id": "RTZOyaJGpxSf",
        "outputId": "8ba8b975-0898-4557-d80d-9ac83adf0b24"
      },
      "execution_count": null,
      "outputs": [
        {
          "output_type": "execute_result",
          "data": {
            "text/plain": [
              "['Bran', 11, 33, 'Stark', 22, 33, 11]"
            ]
          },
          "metadata": {},
          "execution_count": 15
        }
      ]
    },
    {
      "cell_type": "markdown",
      "source": [
        "List Object’s pop() method:\n",
        "The pop() method is another commonly used list object method. This method removes an item or an element from the list, and returns it. The difference between this method and the remove() method is that, we should specify the item to be removed in the remove() method. But, when using the pop(), we specify the index of the item as the argument, and hence, it pops out the item to be returned at the specified index. If the particular item to be removed is not found, then an IndexError is raised."
      ],
      "metadata": {
        "id": "d5DkwVYLp6if"
      }
    },
    {
      "cell_type": "code",
      "source": [
        "myList = [\"Bran\",11,22,33,\"Stark\",22,33,11]\n",
        "\n",
        "myList.pop(1)"
      ],
      "metadata": {
        "colab": {
          "base_uri": "https://localhost:8080/"
        },
        "id": "lvPhpahMp8Iv",
        "outputId": "fbbc66b5-4232-4ec8-b449-35c5832db225"
      },
      "execution_count": null,
      "outputs": [
        {
          "output_type": "execute_result",
          "data": {
            "text/plain": [
              "11"
            ]
          },
          "metadata": {},
          "execution_count": 16
        }
      ]
    },
    {
      "cell_type": "markdown",
      "source": [
        "Python del operator:\n",
        "This operator is similar to the List object’s pop() method with one important difference. The del operator removes the item or an element at the specified index location from the list, but the removed item is not returned, as it is with the pop() method. So essentially, this operator takes the item’s index to be removed as the argument and deletes the item at that index. The operator also supports removing a range of items in the list. Please note, this operator, just like the pop() method, raises an IndexError, when the index or the indices specified are out of range."
      ],
      "metadata": {
        "id": "znzyq6nxqARv"
      }
    },
    {
      "cell_type": "code",
      "source": [
        "myList = [\"Bran\",11,22,33,\"Stark\",22,33,11]\n",
        "\n",
        "del myList[2]\n",
        "\n",
        "myList"
      ],
      "metadata": {
        "colab": {
          "base_uri": "https://localhost:8080/"
        },
        "id": "tzPNvIrFqAzH",
        "outputId": "2f15d9b5-0c7b-4e41-a523-648e6bbc6344"
      },
      "execution_count": null,
      "outputs": [
        {
          "output_type": "execute_result",
          "data": {
            "text/plain": [
              "['Bran', 11, 33, 'Stark', 22, 33, 11]"
            ]
          },
          "metadata": {},
          "execution_count": 17
        }
      ]
    },
    {
      "cell_type": "markdown",
      "source": [
        "### 2.4.6. Reverse the List"
      ],
      "metadata": {
        "id": "vi2Wl2afqNJI"
      }
    },
    {
      "cell_type": "markdown",
      "source": [
        "The reverse() method reverses the elements of the list."
      ],
      "metadata": {
        "id": "QOsswaUnqS8_"
      }
    },
    {
      "cell_type": "code",
      "source": [
        "# create a list of prime numbers\n",
        "prime_numbers = [2, 3, 5, 7]\n",
        "\n",
        "# reverse the order of list elements\n",
        "prime_numbers.reverse()\n",
        "\n",
        "\n",
        "print('Reversed List:', prime_numbers)\n",
        "\n",
        "# Output: Reversed List: [7, 5, 3, 2]"
      ],
      "metadata": {
        "colab": {
          "base_uri": "https://localhost:8080/"
        },
        "id": "pnccEaTRqTU6",
        "outputId": "34ae6196-cbc5-4f88-a5e5-4aec0894a18c"
      },
      "execution_count": null,
      "outputs": [
        {
          "output_type": "stream",
          "name": "stdout",
          "text": [
            "Reversed List: [7, 5, 3, 2]\n"
          ]
        }
      ]
    },
    {
      "cell_type": "markdown",
      "source": [],
      "metadata": {
        "id": "7silneeBqqlo"
      }
    },
    {
      "cell_type": "markdown",
      "source": [
        "### 2.4.7. List sorting\n",
        "Sort the list alphabetically:"
      ],
      "metadata": {
        "id": "700KYgKIqb1Y"
      }
    },
    {
      "cell_type": "code",
      "source": [
        "cars = ['Ford', 'BMW', 'Volvo']\n",
        "\n",
        "cars.sort()"
      ],
      "metadata": {
        "id": "BpXWGCyqqe6o"
      },
      "execution_count": null,
      "outputs": []
    },
    {
      "cell_type": "markdown",
      "source": [
        "##2.5 Dictionaries\n",
        "Dictionaries are used to store data values in key:value pairs.\n",
        "\n",
        "A dictionary is a collection which is ordered*, changeable and do not allow duplicates."
      ],
      "metadata": {
        "id": "GZVMCDlNq-a4"
      }
    },
    {
      "cell_type": "markdown",
      "source": [
        "###2.5.1. Create a Dictionaries\n",
        "To create an empty dictionary, first create a variable name which will be the name of the dictionary.\n",
        "\n",
        "Then, assign the variable to an empty set of curly braces, {}."
      ],
      "metadata": {
        "id": "UXQVQfwDrRtc"
      }
    },
    {
      "cell_type": "code",
      "source": [
        "#create an empty dictionary\n",
        "my_dictionary = {}\n",
        "\n",
        "print(my_dictionary)\n",
        "\n",
        "#to check the data type use the type() function\n",
        "print(type(my_dictionary))\n",
        "\n",
        "#output\n",
        "\n",
        "#{}\n",
        "#<class 'dict'>"
      ],
      "metadata": {
        "colab": {
          "base_uri": "https://localhost:8080/"
        },
        "id": "dwH84LCzrhqY",
        "outputId": "4282091b-8492-4c8b-b364-49deb5b4a772"
      },
      "execution_count": null,
      "outputs": [
        {
          "output_type": "stream",
          "name": "stdout",
          "text": [
            "{}\n",
            "<class 'dict'>\n"
          ]
        }
      ]
    },
    {
      "cell_type": "markdown",
      "source": [
        "###2.5.2. Access the value of Dictionary\n",
        "You can access the items of a dictionary by referring to its key name, inside square brackets:"
      ],
      "metadata": {
        "id": "gyRF7LrprmTY"
      }
    },
    {
      "cell_type": "code",
      "source": [
        "thisdict = {\n",
        "  \"brand\": \"Ford\",\n",
        "  \"model\": \"Mustang\",\n",
        "  \"year\": 1964\n",
        "}\n",
        "x = thisdict[\"model\"]"
      ],
      "metadata": {
        "id": "ummwHER_rslw"
      },
      "execution_count": null,
      "outputs": []
    },
    {
      "cell_type": "markdown",
      "source": [
        "###2.5.3. Update the Dictionary\n",
        "The update() method updates the dictionary with the elements from another dictionary object or from an iterable of key/value pairs.\n"
      ],
      "metadata": {
        "id": "h_RJox-Krwmp"
      }
    },
    {
      "cell_type": "code",
      "source": [
        "marks = {'Physics':67, 'Maths':87}\n",
        "internal_marks = {'Practical':48}\n",
        "\n",
        "marks.update(internal_marks)\n",
        "\n",
        "\n",
        "print(marks)\n",
        "\n",
        "# Output: {'Physics': 67, 'Maths': 87, 'Practical': 48}"
      ],
      "metadata": {
        "colab": {
          "base_uri": "https://localhost:8080/"
        },
        "id": "orOF3u7dr3kB",
        "outputId": "5a068539-52cd-4f71-c7c1-d1bb2baba670"
      },
      "execution_count": null,
      "outputs": [
        {
          "output_type": "stream",
          "name": "stdout",
          "text": [
            "{'Physics': 67, 'Maths': 87, 'Practical': 48}\n"
          ]
        }
      ]
    },
    {
      "cell_type": "markdown",
      "source": [
        "###2.5.4. Delete the Dictionary (All Methods)\n",
        "We can use the following methods to remove items from a dictionary in Python:\n",
        "\n",
        "1. The del keyword\n",
        "2. The clear() method\n",
        "3. The pop() method\n",
        "4. The popitem() method"
      ],
      "metadata": {
        "id": "cYT7Vs3Nr8mh"
      }
    },
    {
      "cell_type": "markdown",
      "source": [
        "The del keyword method uses the keyword from the dictionary to remove an item."
      ],
      "metadata": {
        "id": "srqUduIlsGvQ"
      }
    },
    {
      "cell_type": "code",
      "source": [
        "countries={\"Ghana\": \"Accra\", \"China\": \"Beijing\"}\n",
        "# using the del keyword\n",
        "del countries[\"China\"]\n",
        "print(countries)"
      ],
      "metadata": {
        "colab": {
          "base_uri": "https://localhost:8080/"
        },
        "id": "nDeWE_LIsJ3x",
        "outputId": "c6545c45-8de6-42f2-889a-761eb76c3bd0"
      },
      "execution_count": null,
      "outputs": [
        {
          "output_type": "stream",
          "name": "stdout",
          "text": [
            "{'Ghana': 'Accra'}\n"
          ]
        }
      ]
    },
    {
      "cell_type": "markdown",
      "source": [
        "The clear() method clears all the items in the dictionary."
      ],
      "metadata": {
        "id": "-D4bZeBzsQga"
      }
    },
    {
      "cell_type": "code",
      "source": [
        "countries={\"Ghana\": \"Accra\", \"China\": \"Beijing\"}\n",
        "# using the clear() method\n",
        "countries.clear()\n",
        "print(countries)"
      ],
      "metadata": {
        "colab": {
          "base_uri": "https://localhost:8080/"
        },
        "id": "tjOEIy-QsSP_",
        "outputId": "f6bb3ee8-d9c8-4d43-f6c3-f7878957a825"
      },
      "execution_count": null,
      "outputs": [
        {
          "output_type": "stream",
          "name": "stdout",
          "text": [
            "{}\n"
          ]
        }
      ]
    },
    {
      "cell_type": "markdown",
      "source": [
        "The pop method uses the keyword from the given dictionary to remove an item from that dictionary. The pop method is similar to the del keyword method because they both use the keyword from the dictionary."
      ],
      "metadata": {
        "id": "XiBgaQQ9sUg8"
      }
    },
    {
      "cell_type": "code",
      "source": [
        "countries={\"Ghana\": \"Accra\", \"China\": \"Beijing\"}\n",
        "# using the pop() method\n",
        "countries.pop(\"China\")\n",
        "print(countries)"
      ],
      "metadata": {
        "id": "Jzu7iLp8sVXD"
      },
      "execution_count": null,
      "outputs": []
    },
    {
      "cell_type": "markdown",
      "source": [
        "The popitem() removes the last item added to the dictionary.\n",
        "\n",
        "Example"
      ],
      "metadata": {
        "id": "exugIn8esXuj"
      }
    },
    {
      "cell_type": "code",
      "source": [
        "countries={\"Ghana\": \"Accra\", \"China\": \"Beijing\"}\n",
        "# using the clear() method\n",
        "countries.popitem()\n",
        "print(countries)"
      ],
      "metadata": {
        "colab": {
          "base_uri": "https://localhost:8080/"
        },
        "id": "mb2cmdtOsY6c",
        "outputId": "9e88233b-9b76-4a83-ab12-99f24aefa0c6"
      },
      "execution_count": null,
      "outputs": [
        {
          "output_type": "stream",
          "name": "stdout",
          "text": [
            "{'Ghana': 'Accra'}\n"
          ]
        }
      ]
    },
    {
      "cell_type": "markdown",
      "source": [
        "###2.5.5. Length of Dictionary\n",
        "Python dictionary method len() gives the total length of the dictionary. This would be equal to the number of items in the dictionary."
      ],
      "metadata": {
        "id": "p7-VY5oWsbWU"
      }
    },
    {
      "cell_type": "code",
      "source": [
        "my_dict = {'Name': 'Zara', 'Age': 7}\n",
        "print(\"Length : %d\" % len(my_dict))\n"
      ],
      "metadata": {
        "colab": {
          "base_uri": "https://localhost:8080/"
        },
        "id": "9ZjXG4nosgzF",
        "outputId": "b6562419-42c1-497d-aa1b-7c96b16b3960"
      },
      "execution_count": null,
      "outputs": [
        {
          "output_type": "stream",
          "name": "stdout",
          "text": [
            "Length : 2\n"
          ]
        }
      ]
    },
    {
      "cell_type": "markdown",
      "source": [
        "##2.6 Tuples\n",
        "Tuples are used to store multiple items in a single variable.\n",
        "\n",
        "Tuple is one of 4 built-in data types in Python used to store collections of data, the other 3 are List, Set, and Dictionary, all with different qualities and usage.\n",
        "\n",
        "A tuple is a collection which is ordered and unchangeable.\n",
        "\n",
        "Tuples are written with round brackets."
      ],
      "metadata": {
        "id": "GPeuFak2s2VY"
      }
    },
    {
      "cell_type": "code",
      "source": [
        "thistuple = (\"apple\", \"banana\", \"cherry\")\n",
        "print(thistuple)"
      ],
      "metadata": {
        "colab": {
          "base_uri": "https://localhost:8080/"
        },
        "id": "v6VDXn7As-lS",
        "outputId": "9de63d3c-7053-407a-a7e2-e50c9f6f041c"
      },
      "execution_count": null,
      "outputs": [
        {
          "output_type": "stream",
          "name": "stdout",
          "text": [
            "('apple', 'banana', 'cherry')\n"
          ]
        }
      ]
    },
    {
      "cell_type": "markdown",
      "source": [
        "###2.6.1. Create a Tuples\n",
        "In Python, you can create a tuple by enclosing a sequence of values in parentheses. Here's how to create a tuple:"
      ],
      "metadata": {
        "id": "UrbNh_OhtD-J"
      }
    },
    {
      "cell_type": "code",
      "source": [
        "another_tuple = 1, 2, 3\n"
      ],
      "metadata": {
        "id": "nn_yMne0tYWm"
      },
      "execution_count": null,
      "outputs": []
    },
    {
      "cell_type": "markdown",
      "source": [
        "###2.6.2. Access the value of Tuples\n",
        "You can access tuple items by referring to the index number, inside square brackets:\n"
      ],
      "metadata": {
        "id": "PXkwndrLtek-"
      }
    },
    {
      "cell_type": "code",
      "source": [
        "thistuple = (\"apple\", \"banana\", \"cherry\")\n",
        "print(thistuple[1])"
      ],
      "metadata": {
        "colab": {
          "base_uri": "https://localhost:8080/"
        },
        "id": "6lRK0HY8tpq5",
        "outputId": "c82f68ad-a5fa-47d0-c2e9-b93931ce878e"
      },
      "execution_count": null,
      "outputs": [
        {
          "output_type": "stream",
          "name": "stdout",
          "text": [
            "banana\n"
          ]
        }
      ]
    },
    {
      "cell_type": "markdown",
      "source": [
        " ###2.6.3. Update the Tuples\n",
        " Once a tuple is created, you cannot change its values. Tuples are unchangeable, or immutable as it also is called.\n",
        "\n",
        "But there is a workaround. You can convert the tuple into a list, change the list, and convert the list back into a tuple."
      ],
      "metadata": {
        "id": "aO3VRaFmt0i6"
      }
    },
    {
      "cell_type": "code",
      "source": [
        "x = (\"apple\", \"banana\", \"cherry\")\n",
        "y = list(x)\n",
        "y[1] = \"kiwi\"\n",
        "x = tuple(y)\n",
        "\n",
        "print(x)"
      ],
      "metadata": {
        "colab": {
          "base_uri": "https://localhost:8080/"
        },
        "id": "Noo-1SHKt4fC",
        "outputId": "d2eb8ff4-5bf4-4120-98ec-60ca85b10abf"
      },
      "execution_count": null,
      "outputs": [
        {
          "output_type": "stream",
          "name": "stdout",
          "text": [
            "('apple', 'kiwi', 'cherry')\n"
          ]
        }
      ]
    },
    {
      "cell_type": "markdown",
      "source": [
        "###2.6.4. Delete the Tuples (All Methods)\n",
        "Print the original tuple using the print() function and the string concatenation operation +. The str() function is used to convert the tuple to a string.\n",
        "Use slicing and concatenation to clear the tuple. Slicing is used to get an empty tuple, and concatenation is used to combine it with the original tuple."
      ],
      "metadata": {
        "id": "oxA0_SjOt7jK"
      }
    },
    {
      "cell_type": "code",
      "source": [
        "# initializing tuple\n",
        "test_tup = (1, 5, 3, 6, 8)\n",
        "\n",
        "# printing original tuple\n",
        "print(\"The original tuple : \" + str(test_tup))\n",
        "\n",
        "# Clearing a tuple using slicing and concatenation\n",
        "test_tup = test_tup[0:0] + ()\n",
        "\n",
        "# print result\n",
        "print(\"The tuple after clearing values : \" + str(test_tup))\n"
      ],
      "metadata": {
        "colab": {
          "base_uri": "https://localhost:8080/"
        },
        "id": "UkCDD3lduNNU",
        "outputId": "2da1c48b-5272-4cf7-eb17-459f61d5d96a"
      },
      "execution_count": null,
      "outputs": [
        {
          "output_type": "stream",
          "name": "stdout",
          "text": [
            "The original tuple : (1, 5, 3, 6, 8)\n",
            "The tuple after clearing values : ()\n"
          ]
        }
      ]
    },
    {
      "cell_type": "markdown",
      "source": [
        "###2.6.5. Length of Tuple\n",
        "Python tuple method len() returns the number of elements in the tuple."
      ],
      "metadata": {
        "id": "T4qUV5hxuSzF"
      }
    },
    {
      "cell_type": "code",
      "source": [
        "tuple1, tuple2 = (123, 'xyz', 'zara'), (456, 'abc')\n",
        "print(\"First tuple length:\", len(tuple1))\n",
        "print(\"Second tuple length:\", len(tuple2))\n"
      ],
      "metadata": {
        "colab": {
          "base_uri": "https://localhost:8080/"
        },
        "id": "PrASszoFua--",
        "outputId": "f640e710-2991-44a3-d379-d18862ecd5f7"
      },
      "execution_count": null,
      "outputs": [
        {
          "output_type": "stream",
          "name": "stdout",
          "text": [
            "First tuple length: 3\n",
            "Second tuple length: 2\n"
          ]
        }
      ]
    },
    {
      "cell_type": "markdown",
      "source": [
        "##2.7 Sets\n",
        "Sets are used to store multiple items in a single variable.\n",
        "\n",
        "Set is one of 4 built-in data types in Python used to store collections of data, the other 3 are List, Tuple, and Dictionary, all with different qualities and usage.\n",
        "\n",
        "A set is a collection which is unordered, unchangeable*, and unindexed."
      ],
      "metadata": {
        "id": "PoPlrcLPum0n"
      }
    },
    {
      "cell_type": "markdown",
      "source": [
        "###2.7.1. Create a Sets\n",
        "Create a Set:"
      ],
      "metadata": {
        "id": "1Y2pOznhurN_"
      }
    },
    {
      "cell_type": "code",
      "source": [
        "thisset = {\"apple\", \"banana\", \"cherry\"}\n",
        "print(thisset)"
      ],
      "metadata": {
        "colab": {
          "base_uri": "https://localhost:8080/"
        },
        "id": "17MpsVoEzsUp",
        "outputId": "f27e8f32-386c-4737-cb58-8216ad39e9bd"
      },
      "execution_count": null,
      "outputs": [
        {
          "output_type": "stream",
          "name": "stdout",
          "text": [
            "{'apple', 'banana', 'cherry'}\n"
          ]
        }
      ]
    },
    {
      "cell_type": "markdown",
      "source": [
        "###2.7.2. Access the items of Sets\n",
        "You cannot access items in a set by referring to an index or a key.\n",
        "\n",
        "But you can loop through the set items using a for loop, or ask if a specified value is present in a set, by using the in keyword."
      ],
      "metadata": {
        "id": "gV5D6Q5dzujx"
      }
    },
    {
      "cell_type": "code",
      "source": [
        "thisset = {\"apple\", \"banana\", \"cherry\"}\n",
        "\n",
        "for x in thisset:\n",
        "  print(x)"
      ],
      "metadata": {
        "colab": {
          "base_uri": "https://localhost:8080/"
        },
        "id": "usnvKb64z1ZQ",
        "outputId": "cd630a1d-62d0-4fba-fb6e-7e07c820890a"
      },
      "execution_count": null,
      "outputs": [
        {
          "output_type": "stream",
          "name": "stdout",
          "text": [
            "apple\n",
            "banana\n",
            "cherry\n"
          ]
        }
      ]
    },
    {
      "cell_type": "markdown",
      "source": [
        "### 2.7.3. Add and Update items in Sets\n"
      ],
      "metadata": {
        "id": "XHrpFN_Az4lA"
      }
    },
    {
      "cell_type": "code",
      "source": [
        "A = {'a', 'b'}\n",
        "B = {1, 2, 3}\n",
        "\n",
        "# updates A after the items of B is added to A\n",
        "A.update(B)\n",
        "\n",
        "print(A)\n",
        "\n",
        "# Output: {'a', 1, 2, 'b', 3}"
      ],
      "metadata": {
        "colab": {
          "base_uri": "https://localhost:8080/"
        },
        "id": "HCs1Ft-Sz_7q",
        "outputId": "b28b5346-b4ed-4ed5-c3c5-6a98f2882a86"
      },
      "execution_count": null,
      "outputs": [
        {
          "output_type": "stream",
          "name": "stdout",
          "text": [
            "{1, 2, 3, 'a', 'b'}\n"
          ]
        }
      ]
    },
    {
      "cell_type": "markdown",
      "source": [
        "###2.7.4. Delete the Sets (All Methods)\n",
        "The clear() method removes all items from the set."
      ],
      "metadata": {
        "id": "0oo_O4dF0Cva"
      }
    },
    {
      "cell_type": "code",
      "source": [
        "# set of prime numbers\n",
        "primeNumbers = {2, 3, 5, 7}\n",
        "\n",
        "# clear all elements\n",
        "primeNumbers.clear()\n",
        "\n",
        "print(primeNumbers)\n",
        "\n",
        "# set()"
      ],
      "metadata": {
        "colab": {
          "base_uri": "https://localhost:8080/"
        },
        "id": "pVtAR65G0I5-",
        "outputId": "c197741a-a02b-4856-cb6c-a00902e662ec"
      },
      "execution_count": null,
      "outputs": [
        {
          "output_type": "stream",
          "name": "stdout",
          "text": [
            "set()\n"
          ]
        }
      ]
    },
    {
      "cell_type": "markdown",
      "source": [
        "##3. Operators\n",
        "Operators are used to perform operations on variables and values.\n",
        "\n",
        "In the example below, we use the + operator to add together two values:"
      ],
      "metadata": {
        "id": "qKiG69sg0LyN"
      }
    },
    {
      "cell_type": "code",
      "source": [
        "print(10 + 5)\n"
      ],
      "metadata": {
        "colab": {
          "base_uri": "https://localhost:8080/"
        },
        "id": "61vzXsad0SZ0",
        "outputId": "d280ec5e-b855-4a16-fe92-6879dfd7e2a4"
      },
      "execution_count": null,
      "outputs": [
        {
          "output_type": "stream",
          "name": "stdout",
          "text": [
            "15\n"
          ]
        }
      ]
    },
    {
      "cell_type": "markdown",
      "source": [
        "### 3.1. Arithmetic Operators\n",
        "Python divides the operators in the following groups:\n",
        "\n",
        "1. Arithmetic operators\n",
        "2. Assignment operators\n",
        "3. Comparison operators\n",
        "4. Logical operators\n",
        "5. Identity operators\n",
        "6. Membership operators\n",
        "7. Bitwise operators"
      ],
      "metadata": {
        "id": "H0R5EN3Y0WEM"
      }
    },
    {
      "cell_type": "markdown",
      "source": [
        "Arithmetic operators\n"
      ],
      "metadata": {
        "id": "gE2cO0020hy4"
      }
    },
    {
      "cell_type": "code",
      "source": [
        "x = 5\n",
        "y = 3\n",
        "\n",
        "print(x + y)\n"
      ],
      "metadata": {
        "colab": {
          "base_uri": "https://localhost:8080/"
        },
        "id": "TMdMQg4b0k2X",
        "outputId": "8cdb76c9-a158-4cba-9992-d226ad8d2702"
      },
      "execution_count": null,
      "outputs": [
        {
          "output_type": "stream",
          "name": "stdout",
          "text": [
            "8\n"
          ]
        }
      ]
    },
    {
      "cell_type": "markdown",
      "source": [
        "### 3.3. Assignment Operators\n",
        "Assignment operators are used to assign values to variables:"
      ],
      "metadata": {
        "id": "kndP38Tw0oeS"
      }
    },
    {
      "cell_type": "code",
      "source": [
        "x = 5\n",
        "\n",
        "print(x)"
      ],
      "metadata": {
        "colab": {
          "base_uri": "https://localhost:8080/"
        },
        "id": "VwZe745Z0tra",
        "outputId": "cc326c50-9b54-4e51-c388-d28d2fbf952b"
      },
      "execution_count": null,
      "outputs": [
        {
          "output_type": "stream",
          "name": "stdout",
          "text": [
            "5\n"
          ]
        }
      ]
    },
    {
      "cell_type": "markdown",
      "source": [
        "###3.4. Comparison Operators\n",
        "\n",
        "Comparison operators are used to compare two values:"
      ],
      "metadata": {
        "id": "dauokSkK0yhB"
      }
    },
    {
      "cell_type": "code",
      "source": [
        "x = 5\n",
        "y = 3\n",
        "\n",
        "print(x == y)\n",
        "\n",
        "# returns False because 5 is not equal to 3\n"
      ],
      "metadata": {
        "colab": {
          "base_uri": "https://localhost:8080/"
        },
        "id": "hcf7lfIe0zGC",
        "outputId": "7be7a039-b41f-4dbe-8759-e51ec50e0694"
      },
      "execution_count": null,
      "outputs": [
        {
          "output_type": "stream",
          "name": "stdout",
          "text": [
            "False\n"
          ]
        }
      ]
    },
    {
      "cell_type": "markdown",
      "source": [
        "Logical operators are used to combine conditional statements:\n"
      ],
      "metadata": {
        "id": "rgp91YtP0357"
      }
    },
    {
      "cell_type": "code",
      "source": [
        "x = 5\n",
        "\n",
        "print(x > 3 and x < 10)\n",
        "\n",
        "# returns True because 5 is greater than 3 AND 5 is less than 10"
      ],
      "metadata": {
        "colab": {
          "base_uri": "https://localhost:8080/"
        },
        "id": "-e8cn0jq04v-",
        "outputId": "c2c8c5d5-7b6c-448d-e170-013fcd6dc0a4"
      },
      "execution_count": null,
      "outputs": [
        {
          "output_type": "stream",
          "name": "stdout",
          "text": [
            "True\n"
          ]
        }
      ]
    },
    {
      "cell_type": "code",
      "source": [
        "x = 5\n",
        "\n",
        "print(x > 3 or x < 4)\n",
        "\n",
        "# returns True because one of the conditions are true (5 is greater than 3, but 5 is not less than 4)"
      ],
      "metadata": {
        "colab": {
          "base_uri": "https://localhost:8080/"
        },
        "id": "BfUcEa--07gu",
        "outputId": "840e22da-7657-4dad-8707-2f90472f15ec"
      },
      "execution_count": null,
      "outputs": [
        {
          "output_type": "stream",
          "name": "stdout",
          "text": [
            "True\n"
          ]
        }
      ]
    },
    {
      "cell_type": "code",
      "source": [
        "x = 5\n",
        "\n",
        "print(not(x > 3 and x < 10))\n",
        "\n",
        "# returns False because not is used to reverse the result"
      ],
      "metadata": {
        "colab": {
          "base_uri": "https://localhost:8080/"
        },
        "id": "kbPYml7a0_OE",
        "outputId": "766d6164-a462-4637-e230-11b03ebcca48"
      },
      "execution_count": null,
      "outputs": [
        {
          "output_type": "stream",
          "name": "stdout",
          "text": [
            "False\n"
          ]
        }
      ]
    },
    {
      "cell_type": "markdown",
      "source": [
        "Identity operators are used to compare the objects, not if they are equal, but if they are actually the same object, with the same memory location:"
      ],
      "metadata": {
        "id": "SQQILvTH1DDk"
      }
    },
    {
      "cell_type": "code",
      "source": [
        "x = [\"apple\", \"banana\"]\n",
        "y = [\"apple\", \"banana\"]\n",
        "z = x\n",
        "\n",
        "print(x is z)\n",
        "\n",
        "# returns True because z is the same object as x\n",
        "\n",
        "print(x is y)\n",
        "\n",
        "# returns False because x is not the same object as y, even if they have the same content\n",
        "\n",
        "print(x == y)\n",
        "\n",
        "# to demonstrate the difference betweeen \"is\" and \"==\": this comparison returns True because x is equal to y"
      ],
      "metadata": {
        "colab": {
          "base_uri": "https://localhost:8080/"
        },
        "id": "HxANngPa1GrH",
        "outputId": "377bb97d-bc24-4130-b392-3ec4c3bfb398"
      },
      "execution_count": null,
      "outputs": [
        {
          "output_type": "stream",
          "name": "stdout",
          "text": [
            "True\n",
            "False\n",
            "True\n"
          ]
        }
      ]
    },
    {
      "cell_type": "code",
      "source": [
        "x = [\"apple\", \"banana\"]\n",
        "y = [\"apple\", \"banana\"]\n",
        "z = x\n",
        "\n",
        "print(x is not z)\n",
        "\n",
        "# returns False because z is the same object as x\n",
        "\n",
        "print(x is not y)\n",
        "\n",
        "# returns True because x is not the same object as y, even if they have the same content\n",
        "\n",
        "print(x != y)\n",
        "\n",
        "# to demonstrate the difference betweeen \"is not\" and \"!=\": this comparison returns False because x is equal to y\n"
      ],
      "metadata": {
        "colab": {
          "base_uri": "https://localhost:8080/"
        },
        "id": "oUmNVDco1IiV",
        "outputId": "b773924f-5e2a-4526-8766-5fc95d6b3cc8"
      },
      "execution_count": null,
      "outputs": [
        {
          "output_type": "stream",
          "name": "stdout",
          "text": [
            "False\n",
            "True\n",
            "False\n"
          ]
        }
      ]
    },
    {
      "cell_type": "markdown",
      "source": [
        "Membership operators are used to test if a sequence is presented in an object:"
      ],
      "metadata": {
        "id": "s0RGMbiI1Ldm"
      }
    },
    {
      "cell_type": "code",
      "source": [
        "x = [\"apple\", \"banana\"]\n",
        "\n",
        "print(\"banana\" in x)\n",
        "\n",
        "# returns True because a sequence with the value \"banana\" is in the list"
      ],
      "metadata": {
        "colab": {
          "base_uri": "https://localhost:8080/"
        },
        "id": "gBKVZkAz1L1l",
        "outputId": "88d76c2a-7327-497c-a7cd-06691fc14f19"
      },
      "execution_count": null,
      "outputs": [
        {
          "output_type": "stream",
          "name": "stdout",
          "text": [
            "True\n"
          ]
        }
      ]
    },
    {
      "cell_type": "code",
      "source": [
        "x = [\"apple\", \"banana\"]\n",
        "\n",
        "print(\"pineapple\" not in x)\n",
        "\n",
        "# returns True because a sequence with the value \"pineapple\" is not in the list"
      ],
      "metadata": {
        "colab": {
          "base_uri": "https://localhost:8080/"
        },
        "id": "QPw_sMny1Qx1",
        "outputId": "e7e50935-f2fd-41e2-cf1e-6faea9a656e8"
      },
      "execution_count": null,
      "outputs": [
        {
          "output_type": "stream",
          "name": "stdout",
          "text": [
            "True\n"
          ]
        }
      ]
    },
    {
      "cell_type": "markdown",
      "source": [
        "Bitwise operators are used to compare (binary) numbers:"
      ],
      "metadata": {
        "id": "jr2Cs1Ot1UWm"
      }
    },
    {
      "cell_type": "code",
      "source": [
        "print(6 & 3)\n"
      ],
      "metadata": {
        "colab": {
          "base_uri": "https://localhost:8080/"
        },
        "id": "4pEkofZQ1VC-",
        "outputId": "53be02a5-58f7-4261-89c1-b0a0bd35ed9d"
      },
      "execution_count": null,
      "outputs": [
        {
          "output_type": "stream",
          "name": "stdout",
          "text": [
            "2\n"
          ]
        }
      ]
    },
    {
      "cell_type": "code",
      "source": [
        "print(6 & 3)"
      ],
      "metadata": {
        "colab": {
          "base_uri": "https://localhost:8080/"
        },
        "id": "UZxYnTvb1d3W",
        "outputId": "6170a4e7-e380-45cd-8285-c381f9d0946e"
      },
      "execution_count": null,
      "outputs": [
        {
          "output_type": "stream",
          "name": "stdout",
          "text": [
            "2\n"
          ]
        }
      ]
    },
    {
      "cell_type": "code",
      "source": [
        "print(6 ^ 3)"
      ],
      "metadata": {
        "colab": {
          "base_uri": "https://localhost:8080/"
        },
        "id": "9BuRGdvU1g3w",
        "outputId": "3a424f30-553b-4124-c8c8-058b4bcd235f"
      },
      "execution_count": null,
      "outputs": [
        {
          "output_type": "stream",
          "name": "stdout",
          "text": [
            "5\n"
          ]
        }
      ]
    },
    {
      "cell_type": "code",
      "source": [
        "print(~3)"
      ],
      "metadata": {
        "colab": {
          "base_uri": "https://localhost:8080/"
        },
        "id": "0YTYrt1Y1loa",
        "outputId": "e2eeb908-714f-4691-ad98-d1fae399382b"
      },
      "execution_count": null,
      "outputs": [
        {
          "output_type": "stream",
          "name": "stdout",
          "text": [
            "-4\n"
          ]
        }
      ]
    },
    {
      "cell_type": "code",
      "source": [
        "print(3 << 2)"
      ],
      "metadata": {
        "colab": {
          "base_uri": "https://localhost:8080/"
        },
        "id": "puN9qvPY1n-Q",
        "outputId": "415e3687-782d-4f84-9b4a-0aa91fc24056"
      },
      "execution_count": null,
      "outputs": [
        {
          "output_type": "stream",
          "name": "stdout",
          "text": [
            "12\n"
          ]
        }
      ]
    },
    {
      "cell_type": "code",
      "source": [
        "print(8 >> 2)"
      ],
      "metadata": {
        "colab": {
          "base_uri": "https://localhost:8080/"
        },
        "id": "K9s58J8J1rQh",
        "outputId": "39f0ebce-cc52-4cc4-e6cf-c6158a6858d6"
      },
      "execution_count": null,
      "outputs": [
        {
          "output_type": "stream",
          "name": "stdout",
          "text": [
            "2\n"
          ]
        }
      ]
    },
    {
      "cell_type": "markdown",
      "source": [
        "##4. Conditional statements\n",
        "Python supports the usual logical conditions from mathematics:\n",
        "\n",
        "Equals: a == b\n",
        "Not Equals: a != b\n",
        "Less than: a < b\n",
        "Less than or equal to: a <= b\n",
        "Greater than: a > b\n",
        "Greater than or equal to: a >= b\n",
        "These conditions can be used in several ways, most commonly in \"if statements\" and loops.\n",
        "\n",
        "An \"if statement\" is written by using the if keyword."
      ],
      "metadata": {
        "id": "yMslo5XV2agt"
      }
    },
    {
      "cell_type": "code",
      "source": [
        "a = 33\n",
        "b = 200\n",
        "if b > a:\n",
        "  print(\"b is greater than a\")"
      ],
      "metadata": {
        "colab": {
          "base_uri": "https://localhost:8080/"
        },
        "id": "MPwH3s4J2jzW",
        "outputId": "68c103c3-7e30-4235-96e9-3212ab3c82a1"
      },
      "execution_count": null,
      "outputs": [
        {
          "output_type": "stream",
          "name": "stdout",
          "text": [
            "b is greater than a\n"
          ]
        }
      ]
    },
    {
      "cell_type": "markdown",
      "source": [
        "###4.1. If statement\n",
        "An \"if statement\" is written by using the if keyword."
      ],
      "metadata": {
        "id": "0UMGDT_e2l7O"
      }
    },
    {
      "cell_type": "code",
      "source": [
        "a = 33\n",
        "b = 200\n",
        "if b > a:\n",
        "  print(\"b is greater than a\")"
      ],
      "metadata": {
        "colab": {
          "base_uri": "https://localhost:8080/"
        },
        "id": "w5V1vM7Y2rnH",
        "outputId": "8e909acd-3237-48b6-bf3e-852b5c94ea5c"
      },
      "execution_count": null,
      "outputs": [
        {
          "output_type": "stream",
          "name": "stdout",
          "text": [
            "b is greater than a\n"
          ]
        }
      ]
    },
    {
      "cell_type": "markdown",
      "source": [
        "### 4.2. if-else statement\n",
        "The elif keyword is Python's way of saying \"if the previous conditions were not true, then try this condition\"."
      ],
      "metadata": {
        "id": "i6ap-gSG2wUn"
      }
    },
    {
      "cell_type": "code",
      "source": [
        "a = 33\n",
        "b = 33\n",
        "if b > a:\n",
        "  print(\"b is greater than a\")\n",
        "elif a == b:\n",
        "  print(\"a and b are equal\")"
      ],
      "metadata": {
        "colab": {
          "base_uri": "https://localhost:8080/"
        },
        "id": "guJTKmNq24dI",
        "outputId": "e010c98a-36e4-4a38-9f66-b0784c92e63c"
      },
      "execution_count": null,
      "outputs": [
        {
          "output_type": "stream",
          "name": "stdout",
          "text": [
            "a and b are equal\n"
          ]
        }
      ]
    },
    {
      "cell_type": "markdown",
      "source": [
        "### 4.3. if-else-if statement (Elif)\n",
        "The if...else statement is used to execute a block of code among two alternatives.\n",
        "\n",
        "However, if we need to make a choice between more than two alternatives, then we use the if...elif...else statement.\n",
        "\n",
        "The syntax of the if...elif...else statement is:\n",
        "\n",
        "\n"
      ],
      "metadata": {
        "id": "JH8ElvgT291y"
      }
    },
    {
      "cell_type": "code",
      "source": [
        "# Get the user's age as input\n",
        "age = int(input(\"Enter your age: \"))\n",
        "\n",
        "# Check age and provide a response\n",
        "if age < 18:\n",
        "    print(\"You are a minor.\")\n",
        "elif age >= 18 and age < 65:\n",
        "    print(\"You are an adult.\")\n",
        "else:\n",
        "    print(\"You are a senior citizen.\")\n",
        "\n"
      ],
      "metadata": {
        "colab": {
          "base_uri": "https://localhost:8080/"
        },
        "id": "olChf3wn3TQg",
        "outputId": "0b706aa3-ee9e-4e68-ab37-913098b07bf5"
      },
      "execution_count": null,
      "outputs": [
        {
          "output_type": "stream",
          "name": "stdout",
          "text": [
            "Enter your age: 12\n",
            "You are a minor.\n"
          ]
        }
      ]
    },
    {
      "cell_type": "markdown",
      "source": [
        "##5. Loops\n",
        "A for loop is used for iterating over a sequence (that is either a list, a tuple, a dictionary, a set, or a string).\n",
        "\n",
        "This is less like the for keyword in other programming languages, and works more like an iterator method as found in other object-orientated programming languages.\n",
        "\n",
        "With the for loop we can execute a set of statements, once for each item in a list, tuple, set etc."
      ],
      "metadata": {
        "id": "bW7SfP8-3qZa"
      }
    },
    {
      "cell_type": "code",
      "source": [
        "fruits = [\"apple\", \"banana\", \"cherry\"]\n",
        "for x in fruits:\n",
        "  print(x)"
      ],
      "metadata": {
        "colab": {
          "base_uri": "https://localhost:8080/"
        },
        "id": "YNhuF1XB3y4i",
        "outputId": "7ef1b773-50d3-4423-d76b-356742dd0011"
      },
      "execution_count": null,
      "outputs": [
        {
          "output_type": "stream",
          "name": "stdout",
          "text": [
            "apple\n",
            "banana\n",
            "cherry\n"
          ]
        }
      ]
    },
    {
      "cell_type": "markdown",
      "source": [
        "###5.1. For loop\n",
        "A for loop is used for iterating over a sequence (that is either a list, a tuple, a dictionary, a set, or a string).\n",
        "\n",
        "This is less like the for keyword in other programming languages, and works more like an iterator method as found in other object-orientated programming languages.\n",
        "\n",
        "With the for loop we can execute a set of statements, once for each item in a list, tuple, set etc."
      ],
      "metadata": {
        "id": "p_udVBti30sU"
      }
    },
    {
      "cell_type": "code",
      "source": [
        "fruits = [\"apple\", \"banana\", \"cherry\"]\n",
        "for x in fruits:\n",
        "  print(x)"
      ],
      "metadata": {
        "colab": {
          "base_uri": "https://localhost:8080/"
        },
        "id": "isWauhxF35Ta",
        "outputId": "d3de6cf5-786a-43d5-bd0a-3d774908ee8c"
      },
      "execution_count": null,
      "outputs": [
        {
          "output_type": "stream",
          "name": "stdout",
          "text": [
            "apple\n",
            "banana\n",
            "cherry\n"
          ]
        }
      ]
    },
    {
      "cell_type": "markdown",
      "source": [
        "###5.2. Break statement\n",
        "In Python, break allows you to exit a loop when an external condition is met. Normal program execution resumes at the next statement. You can use a break statement with both for loops and while loops. In a nested loop, break will stop execution of the innermost loop. The flow of the program resumes at the next line of code immediately after the block."
      ],
      "metadata": {
        "id": "e-21wNxX3-cC"
      }
    },
    {
      "cell_type": "code",
      "source": [
        "# Using break in a for loop\n",
        "my_list = [1, 2, 3, 4, 5]\n",
        "\n",
        "for item in my_list:\n",
        "    if item == 3:\n",
        "        break  # exit the loop when item is equal to 3\n",
        "    print(item)\n",
        "\n",
        "# Using break in a while loop\n",
        "count = 0\n",
        "\n",
        "while count < 5:\n",
        "    if count == 2:\n",
        "        break  # exit the loop when count is equal to 2\n",
        "    print(count)\n",
        "    count += 1\n"
      ],
      "metadata": {
        "colab": {
          "base_uri": "https://localhost:8080/"
        },
        "id": "zi0s8J0S4EZL",
        "outputId": "007c6638-162f-4ba8-8ca0-da9a16b278bd"
      },
      "execution_count": null,
      "outputs": [
        {
          "output_type": "stream",
          "name": "stdout",
          "text": [
            "1\n",
            "2\n",
            "0\n",
            "1\n"
          ]
        }
      ]
    },
    {
      "cell_type": "markdown",
      "source": [
        "###5.3. Continue statement\n",
        "The continue statement in Python returns the control to the beginning of the while loop. The continue statement rejects all the remaining statements in the current iteration of the loop and moves the control back to the top of the loop."
      ],
      "metadata": {
        "id": "6V95hojq4RnW"
      }
    },
    {
      "cell_type": "code",
      "source": [
        "# First Example\n",
        "for letter in 'Python':\n",
        "    if letter == 'h':\n",
        "        continue\n",
        "    print('Current Letter:', letter)\n",
        "\n",
        "# Second Example\n",
        "var = 10\n",
        "while var > 0:\n",
        "    var = var - 1\n",
        "    if var == 5:\n",
        "        continue\n",
        "    print('Current variable value:', var)\n",
        "print(\"Good bye!\")\n"
      ],
      "metadata": {
        "colab": {
          "base_uri": "https://localhost:8080/"
        },
        "id": "nSeM2U-b4ak8",
        "outputId": "21c61691-f218-4f0c-f7fd-3745b460043a"
      },
      "execution_count": null,
      "outputs": [
        {
          "output_type": "stream",
          "name": "stdout",
          "text": [
            "Current Letter: P\n",
            "Current Letter: y\n",
            "Current Letter: t\n",
            "Current Letter: o\n",
            "Current Letter: n\n",
            "Current variable value: 9\n",
            "Current variable value: 8\n",
            "Current variable value: 7\n",
            "Current variable value: 6\n",
            "Current variable value: 4\n",
            "Current variable value: 3\n",
            "Current variable value: 2\n",
            "Current variable value: 1\n",
            "Current variable value: 0\n",
            "Good bye!\n"
          ]
        }
      ]
    },
    {
      "cell_type": "markdown",
      "source": [
        "### 5.4. While loop\n",
        "With the while loop we can execute a set of statements as long as a condition is true."
      ],
      "metadata": {
        "id": "fMsP-Bo-4lPm"
      }
    },
    {
      "cell_type": "code",
      "source": [
        "i = 1\n",
        "while i < 6:\n",
        "  print(i)\n",
        "  i += 1"
      ],
      "metadata": {
        "colab": {
          "base_uri": "https://localhost:8080/"
        },
        "id": "ZXl_T4od4qtL",
        "outputId": "d7639d88-2531-45ce-a7b3-e047e07a6841"
      },
      "execution_count": null,
      "outputs": [
        {
          "output_type": "stream",
          "name": "stdout",
          "text": [
            "1\n",
            "2\n",
            "3\n",
            "4\n",
            "5\n"
          ]
        }
      ]
    },
    {
      "cell_type": "markdown",
      "source": [
        "###5.5. Nested loops\n",
        "A nested loop is a loop inside a loop.\n",
        "\n",
        "The \"inner loop\" will be executed one time for each iteration of the \"outer loop\":"
      ],
      "metadata": {
        "id": "5SWg3T8c4tfV"
      }
    },
    {
      "cell_type": "code",
      "source": [
        "adj = [\"red\", \"big\", \"tasty\"]\n",
        "fruits = [\"apple\", \"banana\", \"cherry\"]\n",
        "\n",
        "for x in adj:\n",
        "  for y in fruits:\n",
        "    print(x, y)"
      ],
      "metadata": {
        "colab": {
          "base_uri": "https://localhost:8080/"
        },
        "id": "-FXH_4Lz43Dt",
        "outputId": "8858bfd6-62d9-4e4a-bc53-373a339128cb"
      },
      "execution_count": null,
      "outputs": [
        {
          "output_type": "stream",
          "name": "stdout",
          "text": [
            "red apple\n",
            "red banana\n",
            "red cherry\n",
            "big apple\n",
            "big banana\n",
            "big cherry\n",
            "tasty apple\n",
            "tasty banana\n",
            "tasty cherry\n"
          ]
        }
      ]
    },
    {
      "cell_type": "markdown",
      "source": [
        "##6. Functions\n",
        "A function is a block of code which only runs when it is called.\n",
        "\n",
        "You can pass data, known as parameters, into a function.\n",
        "\n",
        "A function can return data as a result."
      ],
      "metadata": {
        "id": "dISJCml7457N"
      }
    },
    {
      "cell_type": "markdown",
      "source": [
        "### 6.1. Create a Function\n",
        "In Python a function is defined using the def keyword:"
      ],
      "metadata": {
        "id": "le3pG-9V5AMd"
      }
    },
    {
      "cell_type": "code",
      "source": [
        "def my_function():\n",
        "  print(\"Hello from a function\")"
      ],
      "metadata": {
        "id": "K6-4NB6c5EEV"
      },
      "execution_count": null,
      "outputs": []
    },
    {
      "cell_type": "markdown",
      "source": [
        " ###6.2. Calling a Function\n",
        " To call a function, use the function name followed by parenthesis:"
      ],
      "metadata": {
        "id": "Vp1DEOBi5G3O"
      }
    },
    {
      "cell_type": "code",
      "source": [
        "def my_function():\n",
        "  print(\"Hello from a function\")\n",
        "\n",
        "my_function()"
      ],
      "metadata": {
        "colab": {
          "base_uri": "https://localhost:8080/"
        },
        "id": "MotBcPpW5KFu",
        "outputId": "aeaafa34-bbf0-4784-9b59-da909fe1e66b"
      },
      "execution_count": null,
      "outputs": [
        {
          "output_type": "stream",
          "name": "stdout",
          "text": [
            "Hello from a function\n"
          ]
        }
      ]
    },
    {
      "cell_type": "markdown",
      "source": [
        "###6.3. Parameters in a Function\n",
        "In Python, you can define a function with parameters (also called arguments) to accept input values that the function can work with. Parameters allow you to make your functions more flexible and reusable by passing data to them. Here's how you can define a function with parameters:\n"
      ],
      "metadata": {
        "id": "9FHJthVA5Q2P"
      }
    },
    {
      "cell_type": "code",
      "source": [
        "def greet(name):\n",
        "    print(f\"Hello, {name}!\")\n",
        "\n",
        "# Calling the function with an argument\n",
        "greet(\"Alice\")\n"
      ],
      "metadata": {
        "colab": {
          "base_uri": "https://localhost:8080/"
        },
        "id": "ECxdRPE05fhO",
        "outputId": "ef56b828-4ba1-46dd-e704-3e1aafbbf72f"
      },
      "execution_count": null,
      "outputs": [
        {
          "output_type": "stream",
          "name": "stdout",
          "text": [
            "Hello, Alice!\n"
          ]
        }
      ]
    },
    {
      "cell_type": "markdown",
      "source": [
        "### 6.4. Default parameter in Function\n",
        "In Python, you can specify default values for function parameters. Default parameters allow you to define a default value for a parameter in case the caller of the function does not provide a value for that parameter. Here's how you can use default parameters:"
      ],
      "metadata": {
        "id": "-vh3ilmt5js2"
      }
    },
    {
      "cell_type": "code",
      "source": [
        "def greet(name=\"Guest\"):\n",
        "    print(f\"Hello, {name}!\")\n",
        "\n",
        "# Calling the function without an argument\n",
        "greet()  # Output: Hello, Guest!\n",
        "\n",
        "# Calling the function with an argument\n",
        "greet(\"Alice\")  # Output: Hello, Alice!\n"
      ],
      "metadata": {
        "colab": {
          "base_uri": "https://localhost:8080/"
        },
        "id": "q7M9meRN5qDl",
        "outputId": "fd5356d0-6c82-48a5-8497-31be5b75ac49"
      },
      "execution_count": null,
      "outputs": [
        {
          "output_type": "stream",
          "name": "stdout",
          "text": [
            "Hello, Guest!\n",
            "Hello, Alice!\n"
          ]
        }
      ]
    },
    {
      "cell_type": "markdown",
      "source": [
        "### 6.5. Return in Function\n",
        "In Python, the return statement is used in functions to specify what value or values the function should provide as output when it is called. You can use the return statement to send data back from a function to the calling code. Here's how it works:"
      ],
      "metadata": {
        "id": "SL6uz82z5sVG"
      }
    },
    {
      "cell_type": "code",
      "source": [
        "def add(a, b):\n",
        "    result = a + b\n",
        "    return result\n",
        "\n",
        "# Calling the function and storing the result in a variable\n",
        "sum_result = add(5, 3)\n",
        "print(sum_result)  # Output: 8\n"
      ],
      "metadata": {
        "colab": {
          "base_uri": "https://localhost:8080/"
        },
        "id": "J-sdKyRA52Kl",
        "outputId": "bbc71513-4ef0-4ae6-dd0a-5f2b9561f886"
      },
      "execution_count": null,
      "outputs": [
        {
          "output_type": "stream",
          "name": "stdout",
          "text": [
            "8\n"
          ]
        }
      ]
    },
    {
      "cell_type": "markdown",
      "source": [
        "##7. Lambda Functions\n",
        "\n",
        "A lambda function in Python is a concise way to create small, anonymous (unnamed) functions. These functions are defined using the lambda keyword and are often used for short, simple operations that can be expressed in a single line of code. Lambda functions can take any number of arguments but can only have one expression. They are often used as inline functions or for operations like mapping and filtering in functional programming paradigms."
      ],
      "metadata": {
        "id": "zOtjFiTa54re"
      }
    },
    {
      "cell_type": "markdown",
      "source": [
        "###7.1. Syntax of Lambda Function\n",
        "The syntax of a lambda function in Python is as follows:"
      ],
      "metadata": {
        "id": "gGnFThlK6BKW"
      }
    },
    {
      "cell_type": "code",
      "source": [
        "lambda arguments: expression\n"
      ],
      "metadata": {
        "colab": {
          "base_uri": "https://localhost:8080/"
        },
        "id": "J-rOqybg6Iki",
        "outputId": "7d8bf6c7-7978-4a56-86be-add9f762bd4d"
      },
      "execution_count": null,
      "outputs": [
        {
          "output_type": "execute_result",
          "data": {
            "text/plain": [
              "<function __main__.<lambda>(arguments)>"
            ]
          },
          "metadata": {},
          "execution_count": 76
        }
      ]
    },
    {
      "cell_type": "markdown",
      "source": [
        "lambda is the keyword used to define a lambda function\n",
        "\n",
        "arguments are the input parameters (or arguments) that the lambda function takes. You can have any number of arguments, including zero, but they are separated by commas.\n",
        "\n",
        "expression is the single expression or operation that the lambda function performs. The result of this expression is automatically returned by the lambda function.\n",
        "\n",
        "Here's an example of a simple lambda function that adds two numbers:"
      ],
      "metadata": {
        "id": "3XbuzxIO6KsP"
      }
    },
    {
      "cell_type": "code",
      "source": [
        "add = lambda x, y: x + y\n",
        "result = add(3, 5)  # Calling the lambda function\n",
        "print(result)  # Output: 8\n"
      ],
      "metadata": {
        "colab": {
          "base_uri": "https://localhost:8080/"
        },
        "id": "HURyvMOI6RZg",
        "outputId": "d7834216-b963-486c-b950-a70d66ba06c9"
      },
      "execution_count": null,
      "outputs": [
        {
          "output_type": "stream",
          "name": "stdout",
          "text": [
            "8\n"
          ]
        }
      ]
    },
    {
      "cell_type": "markdown",
      "source": [
        "###7.2. Map()\n",
        "\n",
        "In Python, map() is a built-in function that is used to apply a given function to every item in an iterable (e.g., a list, tuple, or string) and return an iterable with the results. The syntax for the map() function is as follows:"
      ],
      "metadata": {
        "id": "qFVrvatz6Vvn"
      }
    },
    {
      "cell_type": "code",
      "source": [
        "# Define a function to square a number\n",
        "def square(x):\n",
        "    return x ** 2\n",
        "\n",
        "# Create a list of numbers\n",
        "numbers = [1, 2, 3, 4, 5]\n",
        "\n",
        "# Use map() to apply the square function to each element in the list\n",
        "squared_numbers = map(square, numbers)\n",
        "\n",
        "# Convert the result to a list (or another iterable type if needed)\n",
        "squared_numbers_list = list(squared_numbers)\n",
        "\n",
        "print(squared_numbers_list)  # Output: [1, 4, 9, 16, 25]\n"
      ],
      "metadata": {
        "colab": {
          "base_uri": "https://localhost:8080/"
        },
        "id": "oeJba9Dq6fhg",
        "outputId": "cbbf15cf-6ea8-4be3-8cc3-a03226656a8b"
      },
      "execution_count": null,
      "outputs": [
        {
          "output_type": "stream",
          "name": "stdout",
          "text": [
            "[1, 4, 9, 16, 25]\n"
          ]
        }
      ]
    },
    {
      "cell_type": "markdown",
      "source": [
        "###7.3. filter()\n",
        "\n",
        "In Python, the filter() function is a built-in function used to filter elements from an iterable (such as a list) based on a given function or condition. It returns an iterable containing only the elements for which the function or condition evaluates to True. The syntax for the filter() function is as follows:"
      ],
      "metadata": {
        "id": "ga8W8ufI6iaf"
      }
    },
    {
      "cell_type": "code",
      "source": [
        "# Define a function to filter even numbers\n",
        "def is_even(x):\n",
        "    return x % 2 == 0\n",
        "\n",
        "# Create a list of numbers\n",
        "numbers = [1, 2, 3, 4, 5, 6, 7, 8, 9, 10]\n",
        "\n",
        "# Use filter() to filter even numbers from the list\n",
        "even_numbers = filter(is_even, numbers)\n",
        "\n",
        "# Convert the result to a list (or another iterable type if needed)\n",
        "even_numbers_list = list(even_numbers)\n",
        "\n",
        "print(even_numbers_list)  # Output: [2, 4, 6, 8, 10]\n"
      ],
      "metadata": {
        "colab": {
          "base_uri": "https://localhost:8080/"
        },
        "id": "07aOsZvO6oPD",
        "outputId": "77a28087-d7de-4c17-ec6f-442ef203f4be"
      },
      "execution_count": null,
      "outputs": [
        {
          "output_type": "stream",
          "name": "stdout",
          "text": [
            "[2, 4, 6, 8, 10]\n"
          ]
        }
      ]
    },
    {
      "cell_type": "markdown",
      "source": [
        "### 7.4. Why, When and where it is used?\n"
      ],
      "metadata": {
        "id": "a00UR-Qj6rcn"
      }
    },
    {
      "cell_type": "markdown",
      "source": [
        "Why we use:\n",
        "\n",
        "Conciseness: Lambda functions are concise and can help reduce code clutter, especially when you need to pass a simple function as an argument to another function.\n",
        "\n",
        "Readability: In some cases, lambda functions can make your code more readable by defining a function at the point where it's used, rather than defining a separate named function.\n",
        "\n",
        "Functional Programming: Lambda functions are commonly used in functional programming languages like Python, JavaScript, and Ruby, where functions can be treated as first-class citizens and passed as arguments to higher-order functions."
      ],
      "metadata": {
        "id": "lZ-LP1V8DZ-Y"
      }
    },
    {
      "cell_type": "markdown",
      "source": [
        "When to Use Lambda Functions:\n",
        "\n",
        "Filtering and Mapping: Lambda functions are often used with functions like filter() and map() to process lists or collections of data."
      ],
      "metadata": {
        "id": "8GxKyQBTD9CD"
      }
    },
    {
      "cell_type": "code",
      "source": [
        "numbers = [1, 2, 3, 4, 5]\n",
        "even_numbers = filter(lambda x: x % 2 == 0, numbers)\n",
        "doubled_numbers = map(lambda x: x * 2, numbers)\n"
      ],
      "metadata": {
        "id": "dnRUWD2iEBM8"
      },
      "execution_count": 1,
      "outputs": []
    },
    {
      "cell_type": "markdown",
      "source": [
        "Sorting: Lambda functions can be used to specify custom sorting criteria for lists or arrays."
      ],
      "metadata": {
        "id": "B2h_G1TwEKC9"
      }
    },
    {
      "cell_type": "code",
      "source": [
        "students = [{'name': 'Alice', 'grade': 85}, {'name': 'Bob', 'grade': 92}]\n",
        "students.sort(key=lambda x: x['grade'])\n"
      ],
      "metadata": {
        "id": "LcDgCgzSEKki"
      },
      "execution_count": 2,
      "outputs": []
    },
    {
      "cell_type": "markdown",
      "source": [
        "Callbacks: When you need to pass a simple function as a callback to an event handler or another function."
      ],
      "metadata": {
        "id": "c6shmrwqEMpK"
      }
    },
    {
      "cell_type": "code",
      "source": [
        "button.click(lambda: print('Button clicked'))\n"
      ],
      "metadata": {
        "colab": {
          "base_uri": "https://localhost:8080/",
          "height": 175
        },
        "id": "ZcvY7ZUSEOcd",
        "outputId": "7c1cf3c1-b1a0-4a5b-c272-6a6a73615ebb"
      },
      "execution_count": 3,
      "outputs": [
        {
          "output_type": "error",
          "ename": "NameError",
          "evalue": "ignored",
          "traceback": [
            "\u001b[0;31m---------------------------------------------------------------------------\u001b[0m",
            "\u001b[0;31mNameError\u001b[0m                                 Traceback (most recent call last)",
            "\u001b[0;32m<ipython-input-3-2dc00daca5fd>\u001b[0m in \u001b[0;36m<cell line: 1>\u001b[0;34m()\u001b[0m\n\u001b[0;32m----> 1\u001b[0;31m \u001b[0mbutton\u001b[0m\u001b[0;34m.\u001b[0m\u001b[0mclick\u001b[0m\u001b[0;34m(\u001b[0m\u001b[0;32mlambda\u001b[0m\u001b[0;34m:\u001b[0m \u001b[0mprint\u001b[0m\u001b[0;34m(\u001b[0m\u001b[0;34m'Button clicked'\u001b[0m\u001b[0;34m)\u001b[0m\u001b[0;34m)\u001b[0m\u001b[0;34m\u001b[0m\u001b[0;34m\u001b[0m\u001b[0m\n\u001b[0m",
            "\u001b[0;31mNameError\u001b[0m: name 'button' is not defined"
          ]
        }
      ]
    },
    {
      "cell_type": "markdown",
      "source": [
        "Where to Use Lambda Functions:\n",
        "\n",
        "Lambda functions are supported in various programming languages, including:\n",
        "\n",
        "Python: Lambda functions are commonly used in Python for functional programming tasks, list comprehensions, and working with higher-order functions like map(), filter(), and sorted().\n",
        "\n",
        "JavaScript: JavaScript supports arrow functions, which are similar to lambda functions and are often used in array methods like map(), filter(), and sort().\n",
        "\n",
        "Ruby: Ruby allows you to create lambdas and use them in functions like each, map, and select for enumerable objects.\n",
        "\n",
        "Java: Java introduced lambda expressions in Java 8, allowing you to write more concise code when working with functional interfaces."
      ],
      "metadata": {
        "id": "yvBCAa3UEWDK"
      }
    },
    {
      "cell_type": "markdown",
      "source": [
        "##8. Arrays\n",
        " Are fundamental data structures used in programming to store collections of elements, such as numbers, strings, or objects. In most programming languages, arrays are indexed and can be created, accessed, and updated. Here, I'll provide examples in Python, JavaScript, and C++ to demonstrate how to perform these operations."
      ],
      "metadata": {
        "id": "mB6x9RczEXwC"
      }
    },
    {
      "cell_type": "markdown",
      "source": [
        "###Create an Array:\n",
        "You can create an array in Python using a list."
      ],
      "metadata": {
        "id": "bVqpW25KFC5P"
      }
    },
    {
      "cell_type": "code",
      "source": [
        "my_array = [1, 2, 3, 4, 5]"
      ],
      "metadata": {
        "id": "VpenmkKxFGsA"
      },
      "execution_count": null,
      "outputs": []
    },
    {
      "cell_type": "markdown",
      "source": [
        "###Access Elements:\n",
        "Accessing elements in a Python array is done using indexing, starting from 0."
      ],
      "metadata": {
        "id": "tm8pm3v3FIxl"
      }
    },
    {
      "cell_type": "code",
      "source": [
        "first_element = my_array[0]  # Access the first element (1)\n",
        "second_element = my_array[1]  # Access the second element (2)"
      ],
      "metadata": {
        "id": "mNgKUN1IFY2h"
      },
      "execution_count": null,
      "outputs": []
    },
    {
      "cell_type": "markdown",
      "source": [
        "###Update Elements:\n",
        "You can update elements in a Python array by assigning a new value to a specific index."
      ],
      "metadata": {
        "id": "IwpZkOb9FaxL"
      }
    },
    {
      "cell_type": "code",
      "source": [
        "my_array[2] = 100  # Update the third element to 100\n"
      ],
      "metadata": {
        "id": "RdJCW9uhFdvq"
      },
      "execution_count": null,
      "outputs": []
    },
    {
      "cell_type": "markdown",
      "source": [
        "##9. Class and Objects:\n",
        "\n",
        "Class: In object-oriented programming, a class is a blueprint or template that defines the structure and behavior of objects. It serves as a blueprint for creating objects with a common set of attributes (properties) and methods (functions).\n",
        "\n",
        "Object: An object is an instance of a class. It is a self-contained unit that encapsulates data (attributes) and the methods (functions) that operate on that data. Objects are used to represent real-world entities and their behavior in code."
      ],
      "metadata": {
        "id": "nkRb389LGL7B"
      }
    },
    {
      "cell_type": "markdown",
      "source": [
        "###9.1. Create class and objects\n",
        "Creating a class and objects in Python involves defining a class with attributes and methods and then creating instances (objects) of that class. Here's a step-by-step guide to creating a class and objects in Python:"
      ],
      "metadata": {
        "id": "n2xZ0gorGSqp"
      }
    },
    {
      "cell_type": "code",
      "source": [
        "# Define a class\n",
        "class Person:\n",
        "    # Constructor method to initialize the object\n",
        "    def __init__(self, name, age):\n",
        "        self.name = name\n",
        "        self.age = age\n",
        "\n",
        "    # Method to introduce the person\n",
        "    def introduce(self):\n",
        "        return f\"My name is {self.name} and I am {self.age} years old.\"\n",
        "\n",
        "# Create objects (instances) of the class\n",
        "person1 = Person(\"Alice\", 30)\n",
        "person2 = Person(\"Bob\", 25)\n",
        "\n",
        "# Access object attributes\n",
        "print(person1.name)  # Output: Alice\n",
        "print(person2.age)   # Output: 25\n",
        "\n",
        "# Call object methods\n",
        "intro1 = person1.introduce()\n",
        "intro2 = person2.introduce()\n",
        "\n",
        "print(intro1)  # Output: My name is Alice and I am 30 years old.\n",
        "print(intro2)  # Output: My name is Bob and I am 25 years old.\n"
      ],
      "metadata": {
        "id": "w21oNO6VGVmg"
      },
      "execution_count": null,
      "outputs": []
    },
    {
      "cell_type": "markdown",
      "source": [
        "##10. File I/O\n",
        "File I/O (Input/Output) is a fundamental concept in programming that involves reading data from external sources (e.g., keyboard or files) and writing data to external destinations (e.g., text files or databases). It is essential for various tasks like data storage, retrieval, and manipulation. Here's an overview of the different aspects of File I/O in Python:"
      ],
      "metadata": {
        "id": "4U58YYfmGXWz"
      }
    },
    {
      "cell_type": "markdown",
      "source": [
        "###10.1. Reading Input from Keyboard:\n",
        "\n",
        "In Python, you can use the input() function to read input from the keyboard. Here's a simple example:"
      ],
      "metadata": {
        "id": "exQhXSwGGxEk"
      }
    },
    {
      "cell_type": "code",
      "source": [
        "user_input = input(\"Enter something: \")\n",
        "print(\"You entered:\", user_input)\n"
      ],
      "metadata": {
        "id": "uw9ZjiD0GygA"
      },
      "execution_count": null,
      "outputs": []
    },
    {
      "cell_type": "markdown",
      "source": [
        "###10.2. I/O from Text Files:\n",
        "\n",
        "In Python, you can perform Input/Output (I/O) operations on text files using the built-in open() function. Text files are a common way to store and exchange data in a human-readable format. Here are the key aspects of working with text files in Python:"
      ],
      "metadata": {
        "id": "ilT7l03MGz3c"
      }
    },
    {
      "cell_type": "markdown",
      "source": [
        "###10.2.1. Create a Text File:\n",
        "\n",
        "To create a new text file, you can use the open() function with the \"w\" mode (write mode). If the file already exists, it will be overwritten. Here's an example:"
      ],
      "metadata": {
        "id": "NlJxE-dZHFWH"
      }
    },
    {
      "cell_type": "code",
      "source": [
        "# Open a text file in write mode\n",
        "with open(\"example.txt\", \"w\") as file:\n",
        "    # Write data to the file\n",
        "    file.write(\"Hello, World!\")\n"
      ],
      "metadata": {
        "id": "J96N4eAEHHnO"
      },
      "execution_count": null,
      "outputs": []
    },
    {
      "cell_type": "markdown",
      "source": [
        "###10.2.2. Reading a File:\n",
        "\n",
        "To read the contents of an existing text file, you can use the open() function with the \"r\" mode (read mode). Here's an example:"
      ],
      "metadata": {
        "id": "TzOF9Z9JHIsM"
      }
    },
    {
      "cell_type": "code",
      "source": [
        "# Open a text file in read mode\n",
        "with open(\"example.txt\", \"r\") as file:\n",
        "    # Read the entire contents of the file\n",
        "    file_contents = file.read()\n",
        "    print(file_contents)\n"
      ],
      "metadata": {
        "id": "Lvbn7TBfHLht"
      },
      "execution_count": null,
      "outputs": []
    },
    {
      "cell_type": "markdown",
      "source": [
        "###10.2.3. Writing into a File:\n",
        "\n",
        "You can write additional data to an existing text file using the \"a\" mode (append mode). This mode allows you to add content to the end of the file without overwriting the existing data. Here's an example:"
      ],
      "metadata": {
        "id": "5UenAAXRHMuf"
      }
    },
    {
      "cell_type": "code",
      "source": [
        "# Open a text file in append mode\n",
        "with open(\"example.txt\", \"a\") as file:\n",
        "    # Append new data to the file\n",
        "    file.write(\"\\nAppended text\")\n"
      ],
      "metadata": {
        "id": "9kF-CbCCHPc6"
      },
      "execution_count": null,
      "outputs": []
    },
    {
      "cell_type": "markdown",
      "source": [
        "###10.3. File Position:\n",
        "\n",
        "In file I/O, the file position refers to the current location or cursor within a file where the next read or write operation will occur. Understanding and manipulating the file position is important when reading or writing data at specific positions within a file. Here are some key points related to file position:"
      ],
      "metadata": {
        "id": "mGUE_AihHSMX"
      }
    },
    {
      "cell_type": "code",
      "source": [
        "with open(\"example.txt\", \"r\") as file:\n",
        "    content = file.read(10)  # Read the first 10 characters\n",
        "    position = file.tell()  # Get the current position\n",
        "    file.seek(20)  # Move the position to byte 20\n",
        "    data = file.read(5)  # Read the next 5 characters\n",
        "\n",
        "print(f\"Content: {content}\")\n",
        "print(f\"Current Position: {position}\")\n",
        "print(f\"Data at Position 20: {data}\")\n"
      ],
      "metadata": {
        "id": "mnAEUtWZHlpk"
      },
      "execution_count": null,
      "outputs": []
    },
    {
      "cell_type": "markdown",
      "source": [
        "###10.4. Why, When, and Where File I/O is Used:\n",
        "\n",
        "File I/O is used extensively in programming for various purposes:\n",
        "\n",
        "Data Storage: File I/O allows you to store data persistently, making it available between program executions.\n",
        "\n",
        "Configuration Files: Configuration files (e.g., JSON or INI files) are used to store settings and preferences for applications.\n",
        "\n",
        "Data Analysis: Reading data from files (e.g., CSV or log files) is essential for data analysis and manipulation.\n",
        "\n",
        "Logging: Programs often write logs to files to record events, errors, and debugging information.\n",
        "\n",
        "User Interaction: File I/O is used to interact with users by reading input from the keyboard and displaying output.\n",
        "\n",
        "Data Migration: When transferring data between applications or databases, data is often read from and written to files.\n",
        "\n",
        "External Data Sources: Data can be imported from external sources, such as web APIs, and written to files for further processing.\n",
        "\n",
        "Data Serialization: Objects and data structures can be serialized to files and deserialized when needed.\n",
        "\n",
        "Database Interaction: Many database systems use file-based storage, and File I/O is involved in interactions with databases."
      ],
      "metadata": {
        "id": "KoPbTYQRHmI_"
      }
    },
    {
      "cell_type": "markdown",
      "source": [
        "##11. Pandas Library Introduction:\n",
        "\n",
        "Pandas is a popular open-source data manipulation and analysis library for Python. It provides data structures and functions for efficiently working with structured data, such as spreadsheets or SQL tables. Pandas is widely used in data science, data analysis, and machine learning applications. Here are some key points about Pandas:\n",
        "\n",
        "Data Structures: Pandas provides two primary data structures: Series and DataFrame. A Series is similar to a one-dimensional array, while a DataFrame is a two-dimensional table with rows and columns, like a spreadsheet or SQL table.\n",
        "\n",
        "Data Cleaning and Transformation: Pandas allows you to perform operations like filtering, sorting, merging, joining, grouping, and aggregating data. It's valuable for data cleaning and transformation tasks.\n",
        "\n",
        "Data Import and Export: Pandas supports reading data from various file formats, such as CSV, Excel, SQL databases, and JSON. It can also export data to these formats.\n",
        "\n",
        "Missing Data Handling: Pandas provides functions for handling missing data, allowing you to fill in missing values or remove rows/columns with missing data.\n",
        "\n",
        "Data Visualization: While not a primary visualization library, Pandas can work with popular visualization libraries like Matplotlib and Seaborn to create graphs and plots."
      ],
      "metadata": {
        "id": "q8i70t81IT7s"
      }
    },
    {
      "cell_type": "markdown",
      "source": [
        "###11.1. Read Dataset using Pandas:\n",
        "\n",
        "To read a dataset using Pandas, you typically use the pd.read_*() functions, where * represents the file format (e.g., pd.read_csv(), pd.read_excel(), pd.read_sql()). Here's an example of reading a CSV file:"
      ],
      "metadata": {
        "id": "Tfd4jr5gIbKK"
      }
    },
    {
      "cell_type": "code",
      "source": [
        "import pandas as pd\n",
        "\n",
        "# Read a CSV file into a DataFrame\n",
        "df = pd.read_csv('data.csv')\n",
        "\n",
        "# Display the first few rows of the DataFrame\n",
        "print(df.head())\n"
      ],
      "metadata": {
        "id": "0B4vf4bLIdhl"
      },
      "execution_count": null,
      "outputs": []
    },
    {
      "cell_type": "markdown",
      "source": [
        "###11.2. Why, When, and Where It Is Used:\n",
        "\n",
        "Data Analysis and Exploration: Pandas is used for exploring, cleaning, and analyzing data. It helps data analysts and scientists get a deeper understanding of the data they're working with.\n",
        "\n",
        "Data Preprocessing: Before training machine learning models, data often needs preprocessing, such as handling missing values, encoding categorical variables, and scaling features. Pandas simplifies these tasks.\n",
        "\n",
        "Data Transformation: Pandas enables you to reshape and transform data, making it suitable for various analyses or for feeding into machine learning algorithms.\n",
        "\n",
        "Data Visualization: While not a dedicated visualization library, Pandas can be used alongside libraries like Matplotlib and Seaborn to visualize data and gain insights.\n",
        "\n",
        "Data Wrangling: When working with real-world datasets, you often need to clean, combine, and reshape data. Pandas provides the tools to efficiently perform these tasks.\n",
        "\n",
        "Data Export: After analysis or preprocessing, you may want to export data in a different format or save it for future use. Pandas can export data to various file formats.\n",
        "\n",
        "Data Integration: Pandas can be used to merge and integrate data from multiple sources, facilitating data integration tasks."
      ],
      "metadata": {
        "id": "f4O0KFGRIiAf"
      }
    },
    {
      "cell_type": "markdown",
      "source": [
        "##12. Series:\n",
        "\n",
        "In Pandas, a Series is a one-dimensional labeled array capable of holding data of various types. It's similar to a column in a spreadsheet or a single column in a database table. A Series consists of two main components: the data and the index. The data can be of any data type, such as integers, floats, strings, or even more complex objects."
      ],
      "metadata": {
        "id": "vd2bTNXII1Ac"
      }
    },
    {
      "cell_type": "markdown",
      "source": [
        "###12.1. Create a Series:\n",
        "\n",
        "You can create a Series by providing a list of data elements. By default, a numeric index is automatically generated for the Series."
      ],
      "metadata": {
        "id": "a68ucsbQI3zU"
      }
    },
    {
      "cell_type": "code",
      "source": [
        "import pandas as pd\n",
        "\n",
        "data = [1, 2, 3, 4, 5]\n",
        "s = pd.Series(data)\n",
        "print(s)\n"
      ],
      "metadata": {
        "id": "LL6IOdhZI5g6"
      },
      "execution_count": null,
      "outputs": []
    },
    {
      "cell_type": "markdown",
      "source": [
        "###12.2. From ndarray (NumPy Array):\n",
        "\n",
        "You can create a Series from a NumPy ndarray (a one-dimensional array). The index will be generated automatically."
      ],
      "metadata": {
        "id": "o0lY65KAI7cb"
      }
    },
    {
      "cell_type": "code",
      "source": [
        "import pandas as pd\n",
        "import numpy as np\n",
        "\n",
        "data = np.array([1, 2, 3, 4, 5])\n",
        "s = pd.Series(data)\n",
        "print(s)\n"
      ],
      "metadata": {
        "id": "M9CiLA20I8_D"
      },
      "execution_count": null,
      "outputs": []
    },
    {
      "cell_type": "markdown",
      "source": [
        "###12.3. From Dictionary:\n",
        "\n",
        "You can create a Series from a Python dictionary, where the dictionary keys become the index of the Series."
      ],
      "metadata": {
        "id": "5XKXXnvDI_gK"
      }
    },
    {
      "cell_type": "code",
      "source": [
        "import pandas as pd\n",
        "\n",
        "data = {'a': 1, 'b': 2, 'c': 3, 'd': 4, 'e': 5}\n",
        "s = pd.Series(data)\n",
        "print(s)\n"
      ],
      "metadata": {
        "id": "8WnTUkjIJBF-"
      },
      "execution_count": null,
      "outputs": []
    },
    {
      "cell_type": "markdown",
      "source": [
        "###12.4. From Scalar Value:\n",
        "\n",
        "You can create a Series from a scalar value, which will be repeated to fill the specified index."
      ],
      "metadata": {
        "id": "fwMDgR8nJDnS"
      }
    },
    {
      "cell_type": "code",
      "source": [
        "import pandas as pd\n",
        "\n",
        "value = 5\n",
        "index = ['a', 'b', 'c', 'd', 'e']\n",
        "s = pd.Series(value, index=index)\n",
        "print(s)\n"
      ],
      "metadata": {
        "id": "YHaBmCO9JFBe"
      },
      "execution_count": null,
      "outputs": []
    },
    {
      "cell_type": "markdown",
      "source": [
        "###12.5. Series is ndarray-like:\n",
        "\n",
        "A Series in Pandas is similar to a one-dimensional NumPy array and supports many NumPy operations."
      ],
      "metadata": {
        "id": "uXGI7pFxJFil"
      }
    },
    {
      "cell_type": "code",
      "source": [
        "import pandas as pd\n",
        "import numpy as np\n",
        "\n",
        "data = np.array([1, 2, 3, 4, 5])\n",
        "s = pd.Series(data)\n",
        "\n",
        "# Accessing elements like a NumPy array\n",
        "print(s[0])      # Access the first element (1)\n",
        "print(s[:3])     # Access the first three elements\n",
        "print(s.mean())  # Compute the mean\n"
      ],
      "metadata": {
        "id": "VZsvsrUnJHey"
      },
      "execution_count": null,
      "outputs": []
    },
    {
      "cell_type": "markdown",
      "source": [
        "###12.6. Series is dict-like:\n",
        "\n",
        "A Series is also similar to a Python dictionary, where the index acts like keys, and you can access values using these keys."
      ],
      "metadata": {
        "id": "9s9_WB4OJIhH"
      }
    },
    {
      "cell_type": "code",
      "source": [
        "import pandas as pd\n",
        "\n",
        "data = {'a': 1, 'b': 2, 'c': 3, 'd': 4, 'e': 5}\n",
        "s = pd.Series(data)\n",
        "\n",
        "# Accessing elements like a dictionary\n",
        "print(s['a'])  # Access the element with index 'a' (1)\n",
        "print('b' in s)  # Check if 'b' is in the index\n"
      ],
      "metadata": {
        "id": "K3TJNBIpJKni"
      },
      "execution_count": null,
      "outputs": []
    },
    {
      "cell_type": "markdown",
      "source": [
        "###12.7. Vectorized Operations and Label Alignment with Series:\n",
        "\n",
        "Pandas Series support vectorized operations, which means you can perform element-wise operations on Series without explicitly writing loops. Additionally, Series align themselves based on their index labels, making it easier to work with data that may not be perfectly aligned.\n",
        "\n",
        "Here's an example illustrating vectorized operations and label alignment:"
      ],
      "metadata": {
        "id": "cMKEO_K5JNat"
      }
    },
    {
      "cell_type": "code",
      "source": [
        "import pandas as pd\n",
        "\n",
        "# Creating two Series\n",
        "s1 = pd.Series([1, 2, 3], index=['a', 'b', 'c'])\n",
        "s2 = pd.Series([10, 20, 30], index=['b', 'c', 'd'])\n",
        "\n",
        "# Adding two Series with label alignment\n",
        "result = s1 + s2\n",
        "\n",
        "print(result)\n"
      ],
      "metadata": {
        "id": "XKWo-10CJabi"
      },
      "execution_count": null,
      "outputs": []
    },
    {
      "cell_type": "markdown",
      "source": [
        "###12.8. Why, When, and Where Series is Used:\n",
        "\n",
        "Pandas Series are used in various scenarios:\n",
        "\n",
        "Data Exploration: Series are a fundamental data structure for exploring and analyzing data in Pandas. They provide a convenient way to represent and manipulate data.\n",
        "\n",
        "Data Cleaning: Series can be used for data cleaning tasks, such as handling missing values, removing duplicates, or transforming data.\n",
        "\n",
        "Data Preparation: Series are often used to prepare data for machine learning tasks, including feature engineering and data transformation.\n",
        "\n",
        "Data Visualization: Series can be visualized using libraries like Matplotlib or Seaborn to gain insights from data.\n",
        "\n",
        "Data Aggregation: Series can be grouped and aggregated to compute summary statistics or make data more compact.\n",
        "\n",
        "Data Alignment: Series are valuable when working with datasets that may not be perfectly aligned. They align themselves based on labels, simplifying data integration.\n",
        "\n",
        "Time Series Analysis: Series are commonly used for time series data, where the index represents timestamps.\n",
        "\n",
        "Database Operations: Series can be used to read data from databases and perform database operations."
      ],
      "metadata": {
        "id": "NPBzC-t7Jbf4"
      }
    },
    {
      "cell_type": "markdown",
      "source": [
        "##13. DataFrames:\n",
        "\n",
        "A DataFrame is a two-dimensional, size-mutable, and tabular data structure in Pandas, similar to a spreadsheet or SQL table. DataFrames are widely used for data manipulation and analysis. They consist of rows and columns, where each column can have a different data type. Here are various ways to create and work with DataFrames in Pandas:"
      ],
      "metadata": {
        "id": "Ba-HXcAAKA_d"
      }
    },
    {
      "cell_type": "markdown",
      "source": [
        "###13.1. From Dict of Series or Dicts:\n",
        "\n",
        "You can create a DataFrame from a dictionary where the values are Series or dictionaries themselves. The keys become column names, and the values become column data."
      ],
      "metadata": {
        "id": "UFlM-2y1KDjP"
      }
    },
    {
      "cell_type": "code",
      "source": [
        "import pandas as pd\n",
        "\n",
        "data = {'Column1': pd.Series([1, 2, 3]),\n",
        "        'Column2': pd.Series([4, 5, 6])}\n",
        "df = pd.DataFrame(data)\n"
      ],
      "metadata": {
        "id": "4FNHqeXlKFqh"
      },
      "execution_count": null,
      "outputs": []
    },
    {
      "cell_type": "markdown",
      "source": [
        "###13.2. From Dict of ndarrays / Lists:\n",
        "\n",
        "You can create a DataFrame from a dictionary where the values are NumPy arrays or lists. The keys become column names, and the arrays/lists must have the same length."
      ],
      "metadata": {
        "id": "14yC1sRpKGKG"
      }
    },
    {
      "cell_type": "code",
      "source": [
        "import pandas as pd\n",
        "import numpy as np\n",
        "\n",
        "data = {'Column1': [1, 2, 3],\n",
        "        'Column2': [4, 5, 6]}\n",
        "df = pd.DataFrame(data)\n"
      ],
      "metadata": {
        "id": "vq-CV7-PKJMF"
      },
      "execution_count": null,
      "outputs": []
    },
    {
      "cell_type": "markdown",
      "source": [
        "###13.3. From a List of Dicts:\n",
        "\n",
        "You can create a DataFrame from a list of dictionaries, where each dictionary represents a row and keys become column names."
      ],
      "metadata": {
        "id": "CO4KswrWKJtp"
      }
    },
    {
      "cell_type": "code",
      "source": [
        "import pandas as pd\n",
        "\n",
        "data = [{'Column1': 1, 'Column2': 4},\n",
        "        {'Column1': 2, 'Column2': 5},\n",
        "        {'Column1': 3, 'Column2': 6}]\n",
        "df = pd.DataFrame(data)\n"
      ],
      "metadata": {
        "id": "xyy-dATSKNDf"
      },
      "execution_count": null,
      "outputs": []
    },
    {
      "cell_type": "markdown",
      "source": [
        "###13.4. From a Dict of Tuples:\n",
        "\n",
        "You can create a DataFrame from a dictionary of tuples, where each tuple represents a row and the keys become column names."
      ],
      "metadata": {
        "id": "5HvL_Uj7KOLF"
      }
    },
    {
      "cell_type": "code",
      "source": [
        "import pandas as pd\n",
        "\n",
        "data = {('Column1', 'Column2'): [(1, 4), (2, 5), (3, 6)]}\n",
        "df = pd.DataFrame(data)\n"
      ],
      "metadata": {
        "id": "7DLuvUB_KSSI"
      },
      "execution_count": null,
      "outputs": []
    },
    {
      "cell_type": "markdown",
      "source": [
        "###13.5. Alternate Constructors:\n",
        "\n",
        "Pandas provides alternate constructors like pd.DataFrame.from_dict(), pd.DataFrame.from_records(), and pd.DataFrame.from_items() for creating DataFrames from various data sources."
      ],
      "metadata": {
        "id": "HoG6lmflKVKe"
      }
    },
    {
      "cell_type": "markdown",
      "source": [
        "###13.6. Column Selection:\n",
        "\n",
        "Column selection in Pandas DataFrames allows you to access specific columns or subsets of columns. You can select one or more columns based on their names. There are several ways to select columns:"
      ],
      "metadata": {
        "id": "YbjlrcKpKkFS"
      }
    },
    {
      "cell_type": "markdown",
      "source": [
        "Using Square Brackets: You can use square brackets and provide the column name(s) as strings."
      ],
      "metadata": {
        "id": "G53faiw8KqI5"
      }
    },
    {
      "cell_type": "code",
      "source": [
        "# Select a single column\n",
        "single_column = df['Column1']\n",
        "\n",
        "# Select multiple columns\n",
        "multiple_columns = df[['Column1', 'Column2']]\n"
      ],
      "metadata": {
        "id": "2uMWs6s8KquA"
      },
      "execution_count": null,
      "outputs": []
    },
    {
      "cell_type": "markdown",
      "source": [
        "Using Dot Notation: If column names don't contain spaces or special characters, you can use dot notation to select columns."
      ],
      "metadata": {
        "id": "0x1uQIZDKr33"
      }
    },
    {
      "cell_type": "code",
      "source": [
        "single_column = df.Column1\n"
      ],
      "metadata": {
        "id": "H1Wry8vaKtj8"
      },
      "execution_count": null,
      "outputs": []
    },
    {
      "cell_type": "markdown",
      "source": [
        "Using .loc[]: The .loc[] indexer allows you to select columns by label. You can specify the column label(s) within the .loc[] method."
      ],
      "metadata": {
        "id": "1fPlerzyKukF"
      }
    },
    {
      "cell_type": "code",
      "source": [
        "single_column = df.loc[:, 'Column1']\n",
        "multiple_columns = df.loc[:, ['Column1', 'Column2']]\n"
      ],
      "metadata": {
        "id": "ghERDlCPKv-s"
      },
      "execution_count": null,
      "outputs": []
    },
    {
      "cell_type": "markdown",
      "source": [
        "Using .iloc[]: The .iloc[] indexer allows you to select columns by integer location. You can specify the column integer position(s) within the .iloc[] method."
      ],
      "metadata": {
        "id": "jIHwvzXlKw87"
      }
    },
    {
      "cell_type": "code",
      "source": [
        "single_column = df.iloc[:, 0]  # Select the first column (index 0)\n",
        "multiple_columns = df.iloc[:, [0, 1]]  # Select the first and second columns\n"
      ],
      "metadata": {
        "id": "fidVUnm-Kz6e"
      },
      "execution_count": null,
      "outputs": []
    },
    {
      "cell_type": "markdown",
      "source": [
        "###13.6.1. Column Selection:\n",
        "\n",
        "You can select a column from a DataFrame using square brackets or dot notation."
      ],
      "metadata": {
        "id": "5Y7eRAO7K4Qa"
      }
    },
    {
      "cell_type": "code",
      "source": [
        "# Using square brackets\n",
        "column = df['Column1']\n",
        "\n",
        "# Using dot notation\n",
        "column = df.Column1\n"
      ],
      "metadata": {
        "id": "QdfAOY6sK5eI"
      },
      "execution_count": null,
      "outputs": []
    },
    {
      "cell_type": "markdown",
      "source": [
        "###13.6.2. Column Deletion:\n",
        "\n",
        "You can delete a column from a DataFrame using the drop() method or the del statement."
      ],
      "metadata": {
        "id": "nTavLuRJK6cg"
      }
    },
    {
      "cell_type": "code",
      "source": [
        "# Using drop() method\n",
        "df = df.drop('Column1', axis=1)\n",
        "\n",
        "# Using del statement\n",
        "del df['Column1']\n"
      ],
      "metadata": {
        "id": "XUuzR7qgK85i"
      },
      "execution_count": null,
      "outputs": []
    },
    {
      "cell_type": "markdown",
      "source": [
        "###13.6.3. Column Insertion:\n",
        "\n",
        "You can insert a new column into a DataFrame by assigning a Series or a list to a new column name."
      ],
      "metadata": {
        "id": "EEJTaDoyK-pC"
      }
    },
    {
      "cell_type": "code",
      "source": [
        "df['NewColumn'] = [7, 8, 9]\n"
      ],
      "metadata": {
        "id": "srKnpowrK_Y8"
      },
      "execution_count": null,
      "outputs": []
    },
    {
      "cell_type": "markdown",
      "source": [
        "###13.7. Indexing/Selection:\n",
        "\n",
        "You can select rows and columns using various methods, such as loc[] (label-based), iloc[] (integer-based), and boolean indexing."
      ],
      "metadata": {
        "id": "x_HURdICLB2s"
      }
    },
    {
      "cell_type": "markdown",
      "source": [
        "###13.8. Data Alignment and Arithmetic:\n",
        "\n",
        "DataFrames support element-wise arithmetic operations and align themselves based on the row and column labels."
      ],
      "metadata": {
        "id": "3XTJw4ZDLE2m"
      }
    },
    {
      "cell_type": "markdown",
      "source": [
        "13.9. Transposing:\n",
        "\n",
        "You can transpose a DataFrame (swap rows and columns) using the .T attribute."
      ],
      "metadata": {
        "id": "i-hdEBIPLFw9"
      }
    },
    {
      "cell_type": "code",
      "source": [
        "df_transposed = df.T\n"
      ],
      "metadata": {
        "id": "JLw-SFqWLHdO"
      },
      "execution_count": null,
      "outputs": []
    },
    {
      "cell_type": "markdown",
      "source": [
        "###13.10. Why, When, and Where DataFrames are Used:\n",
        "\n",
        "DataFrames are used in various scenarios:\n",
        "Data Analysis and Exploration: DataFrames are the primary data structure for data analysis and exploration in Pandas. They provide a convenient way to view and manipulate data.\n",
        "\n",
        "Data Cleaning and Preprocessing: DataFrames are used for data cleaning tasks, such as handling missing values, transforming data, and removing duplicates.\n",
        "\n",
        "Data Visualization: DataFrames can be used to create visualizations and plots to gain insights from data.\n",
        "\n",
        "Data Aggregation and Grouping: DataFrames are valuable for aggregating and summarizing data, especially when working with large datasets.\n",
        "\n",
        "Merging and Joining Data: DataFrames can be merged and joined to combine data from different sources.\n",
        "\n",
        "Machine Learning: DataFrames are often used to prepare data for machine learning tasks, including feature engineering and model training.\n",
        "\n",
        "Database Operations: DataFrames can be used for reading and writing data to and from databases."
      ],
      "metadata": {
        "id": "Stqy_LVRLKxZ"
      }
    },
    {
      "cell_type": "markdown",
      "source": [
        "##14. Viewing Data:\n",
        "\n",
        "In Pandas, there are several methods and attributes available for viewing data within a DataFrame or Series. These methods allow you to inspect the contents of your data, including the first few rows, summary statistics, and more. Here are some common data viewing methods and attributes:"
      ],
      "metadata": {
        "id": "TOSI2QDeLVI6"
      }
    },
    {
      "cell_type": "markdown",
      "source": [
        "###14.1. Data Viewing Methods:\n",
        "\n",
        "head(n): This method returns the first n rows of the DataFrame or Series. It's useful for quickly inspecting the beginning of your data."
      ],
      "metadata": {
        "id": "gUwNkv7YLmiX"
      }
    },
    {
      "cell_type": "code",
      "source": [
        "df.head(5)  # Returns the first 5 rows of the DataFrame\n"
      ],
      "metadata": {
        "id": "spjcU3zKLozw"
      },
      "execution_count": null,
      "outputs": []
    },
    {
      "cell_type": "markdown",
      "source": [
        "tail(n): Similar to head(), tail(n) returns the last n rows of the DataFrame or Series. It's useful for inspecting the end of your data."
      ],
      "metadata": {
        "id": "PLdJPMSrLpdq"
      }
    },
    {
      "cell_type": "code",
      "source": [
        "df.tail(3)  # Returns the last 3 rows of the DataFrame\n"
      ],
      "metadata": {
        "id": "XvD-nabPLrKw"
      },
      "execution_count": null,
      "outputs": []
    },
    {
      "cell_type": "markdown",
      "source": [
        "sample(n): The sample() method returns a random sample of n rows from the DataFrame. This is helpful for getting a random subset of your data."
      ],
      "metadata": {
        "id": "zZPvGJ8PLsTO"
      }
    },
    {
      "cell_type": "code",
      "source": [
        "df.sample(4)  # Returns a random sample of 4 rows\n"
      ],
      "metadata": {
        "id": "XcLbsro9LuRi"
      },
      "execution_count": null,
      "outputs": []
    },
    {
      "cell_type": "markdown",
      "source": [
        "info(): The info() method provides a concise summary of the DataFrame, including the data types, non-null counts, and memory usage. It's useful for understanding the data structure and detecting missing values."
      ],
      "metadata": {
        "id": "7MfRGxn9LvhM"
      }
    },
    {
      "cell_type": "code",
      "source": [
        "df.info()\n"
      ],
      "metadata": {
        "id": "bz-8KAG0LxFt"
      },
      "execution_count": null,
      "outputs": []
    },
    {
      "cell_type": "markdown",
      "source": [
        "describe(): The describe() method generates summary statistics of the numeric columns in the DataFrame, such as count, mean, standard deviation, minimum, and maximum. It's helpful for gaining insights into the data distribution."
      ],
      "metadata": {
        "id": "SNgrN2aYLyBf"
      }
    },
    {
      "cell_type": "code",
      "source": [
        "df.describe()\n"
      ],
      "metadata": {
        "id": "Kcg-y8uPLztz"
      },
      "execution_count": null,
      "outputs": []
    },
    {
      "cell_type": "markdown",
      "source": [
        "shape: The shape attribute returns a tuple representing the dimensions of the DataFrame. It indicates the number of rows and columns."
      ],
      "metadata": {
        "id": "f_5e7Qa4L1Hf"
      }
    },
    {
      "cell_type": "code",
      "source": [
        "df.shape  # Returns (rows, columns)\n"
      ],
      "metadata": {
        "id": "v1O5WMZfL35r"
      },
      "execution_count": null,
      "outputs": []
    },
    {
      "cell_type": "markdown",
      "source": [
        "columns: The columns attribute returns a list of column names in the DataFrame."
      ],
      "metadata": {
        "id": "gRVkrJU2L49z"
      }
    },
    {
      "cell_type": "code",
      "source": [
        "df.columns  # Returns a list of column names\n"
      ],
      "metadata": {
        "id": "pUrvfE88L6tk"
      },
      "execution_count": null,
      "outputs": []
    },
    {
      "cell_type": "markdown",
      "source": [
        "index: The index attribute returns information about the DataFrame's index. This can be useful to inspect the index labels."
      ],
      "metadata": {
        "id": "AOr32pL9L7pg"
      }
    },
    {
      "cell_type": "code",
      "source": [
        "df.index  # Returns information about the DataFrame's index\n"
      ],
      "metadata": {
        "id": "G06jZv24L9Uo"
      },
      "execution_count": null,
      "outputs": []
    },
    {
      "cell_type": "markdown",
      "source": [
        "These data viewing methods and attributes provide essential insights into your data, helping you understand its structure, content, and characteristics. They are valuable tools for data exploration and initial analysis."
      ],
      "metadata": {
        "id": "FcB2HZTPL-cX"
      }
    }
  ],
  "metadata": {
    "colab": {
      "toc_visible": true,
      "provenance": []
    },
    "kernelspec": {
      "display_name": "Python 3",
      "name": "python3"
    }
  },
  "nbformat": 4,
  "nbformat_minor": 0
}